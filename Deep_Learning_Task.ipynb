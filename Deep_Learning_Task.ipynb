{
  "cells": [
    {
      "cell_type": "markdown",
      "metadata": {
        "id": "THxjKfmyG-St"
      },
      "source": [
        "# 🧠 Deep Learning Practical Assignment (Adult Income Dataset)\n",
        "\n",
        "## 📌 Dataset\n",
        "We will use the **Adult Income dataset** (also known as the Census Income dataset).  \n",
        "The task is to predict whether a person earns **more than $50K/year** based on demographic and employment attributes.\n",
        "\n",
        "---\n"
      ]
    },
    {
      "cell_type": "code",
      "execution_count": 3,
      "metadata": {
        "colab": {
          "base_uri": "https://localhost:8080/"
        },
        "id": "ETxUv-9oGeuT",
        "outputId": "74c2e005-5922-49c8-f86d-896c2130c231"
      },
      "outputs": [
        {
          "name": "stdout",
          "output_type": "stream",
          "text": [
            "   age  workclass  fnlwgt     education  education-num      marital-status  \\\n",
            "0   25    Private  226802          11th              7       Never-married   \n",
            "1   38    Private   89814       HS-grad              9  Married-civ-spouse   \n",
            "2   28  Local-gov  336951    Assoc-acdm             12  Married-civ-spouse   \n",
            "3   44    Private  160323  Some-college             10  Married-civ-spouse   \n",
            "4   18        NaN  103497  Some-college             10       Never-married   \n",
            "\n",
            "          occupation relationship   race     sex  capital-gain  capital-loss  \\\n",
            "0  Machine-op-inspct    Own-child  Black    Male             0             0   \n",
            "1    Farming-fishing      Husband  White    Male             0             0   \n",
            "2    Protective-serv      Husband  White    Male             0             0   \n",
            "3  Machine-op-inspct      Husband  Black    Male          7688             0   \n",
            "4                NaN    Own-child  White  Female             0             0   \n",
            "\n",
            "   hours-per-week native-country  class  \n",
            "0              40  United-States  <=50K  \n",
            "1              50  United-States  <=50K  \n",
            "2              40  United-States   >50K  \n",
            "3              40  United-States   >50K  \n",
            "4              30  United-States  <=50K  \n",
            "(48842, 15)\n"
          ]
        }
      ],
      "source": [
        "# Option 1: Using OpenML via scikit-learn\n",
        "from sklearn.datasets import fetch_openml\n",
        "import pandas as pd\n",
        "\n",
        "# Load dataset from OpenML\n",
        "adult = fetch_openml(name=\"adult\", version=2, as_frame=True)\n",
        "df = adult.frame\n",
        "\n",
        "print(df.head())\n",
        "print(df.shape)  # (48842, 15)\n",
        "\n",
        "# Separate features and target\n",
        "X = df.drop(columns=\"class\")\n",
        "y = df[\"class\"]\n"
      ]
    },
    {
      "cell_type": "markdown",
      "metadata": {
        "id": "qqY4sTfrHQF_"
      },
      "source": [
        "## Part 0: Data Preparation\n",
        "1. Load the dataset into a DataFrame.\n",
        "2. Split the data into **training, validation, and test sets**.  \n",
        "   - Suggested: 70% training, 15% validation, 15% test.\n",
        "3. Apply any necessary preprocessing:\n",
        "   - Handle categorical features (encoding).\n",
        "   - Scale numerical features if needed.\n",
        "4. After training your models, always report results on:\n",
        "   - **Training accuracy**\n",
        "   - **Validation accuracy**\n",
        "   - **Test accuracy**\n",
        "5. At the end of the assignment, **compare all methods** across train, validation, and test sets.\n"
      ]
    },
    {
      "cell_type": "code",
      "execution_count": 4,
      "metadata": {
        "id": "3uG3mAu5HTJI"
      },
      "outputs": [
        {
          "name": "stdout",
          "output_type": "stream",
          "text": [
            "class\n",
            "<=50K    37155\n",
            ">50K     11687\n",
            "Name: count, dtype: int64\n"
          ]
        },
        {
          "name": "stderr",
          "output_type": "stream",
          "text": [
            "C:\\Users\\User\\AppData\\Roaming\\Python\\Python313\\site-packages\\sklearn\\preprocessing\\_label.py:110: DataConversionWarning: A column-vector y was passed when a 1d array was expected. Please change the shape of y to (n_samples, ), for example using ravel().\n",
            "  y = column_or_1d(y, warn=True)\n",
            "C:\\Users\\User\\AppData\\Roaming\\Python\\Python313\\site-packages\\sklearn\\preprocessing\\_label.py:129: DataConversionWarning: A column-vector y was passed when a 1d array was expected. Please change the shape of y to (n_samples, ), for example using ravel().\n",
            "  y = column_or_1d(y, dtype=self.classes_.dtype, warn=True)\n",
            "C:\\Users\\User\\AppData\\Roaming\\Python\\Python313\\site-packages\\sklearn\\preprocessing\\_label.py:129: DataConversionWarning: A column-vector y was passed when a 1d array was expected. Please change the shape of y to (n_samples, ), for example using ravel().\n",
            "  y = column_or_1d(y, dtype=self.classes_.dtype, warn=True)\n"
          ]
        }
      ],
      "source": [
        "import pandas as pd\n",
        "from sklearn.model_selection import train_test_split\n",
        "from sklearn.preprocessing import StandardScaler\n",
        "from sklearn.preprocessing import OneHotEncoder\n",
        "from sklearn.preprocessing import LabelEncoder\n",
        "\n",
        "\n",
        "y = pd.DataFrame(data=y)\n",
        "\n",
        "X_train_val, X_test, y_train_val, y_test = train_test_split(X, y, test_size=0.15, random_state=42, stratify=y)\n",
        "X_train, X_val, y_train, y_val = train_test_split(X_train_val, y_train_val, test_size=0.1765, random_state=42, stratify=y_train_val)\n",
        "\n",
        "numerical = X.select_dtypes(include=['int64', 'float64']).columns\n",
        "standard = StandardScaler()\n",
        "\n",
        "X_train[numerical] = standard.fit_transform(X_train[numerical])\n",
        "X_val[numerical]   = standard.transform(X_val[numerical])\n",
        "X_test[numerical]  = standard.transform(X_test[numerical])\n",
        "\n",
        "categorical = list(X.columns)\n",
        "for col in numerical:\n",
        "    categorical.remove(col)\n",
        "encoder = OneHotEncoder(sparse_output=False)\n",
        "\n",
        "X_train_encoded = encoder.fit_transform(X_train[categorical])\n",
        "X_val_encoded   = encoder.transform(X_val[categorical])\n",
        "X_test_encoded  = encoder.transform(X_test[categorical])\n",
        "\n",
        "encoded_cols = encoder.get_feature_names_out(categorical)\n",
        "\n",
        "X_train_encoded = pd.DataFrame(X_train_encoded, columns=encoded_cols, index=X_train.index)\n",
        "X_val_encoded   = pd.DataFrame(X_val_encoded, columns=encoded_cols, index=X_val.index)\n",
        "X_test_encoded  = pd.DataFrame(X_test_encoded, columns=encoded_cols, index=X_test.index)\n",
        "\n",
        "X_train = X_train.drop(columns=categorical).join(X_train_encoded)\n",
        "X_val   = X_val.drop(columns=categorical).join(X_val_encoded)\n",
        "X_test  = X_test.drop(columns=categorical).join(X_test_encoded)\n",
        "\n",
        "print(y.value_counts())\n",
        "# y has 2 answers\n",
        "label = LabelEncoder()\n",
        "y_train = label.fit_transform(y_train)\n",
        "y_val = label.transform(y_val)\n",
        "y_test = label.transform(y_test)"
      ]
    },
    {
      "cell_type": "markdown",
      "metadata": {
        "id": "LPpltt4ZG3fN"
      },
      "source": [
        "\n",
        "## Part 1: Optimizers\n",
        "1. Train the same neural network using:\n",
        "   - Stochastic Gradient Descent (SGD)\n",
        "   - SGD with Momentum\n",
        "   - Adam\n",
        "2. Compare the training and validation accuracy for each optimizer.\n",
        "3. Which optimizer converges the fastest? Which gives the best generalization?\n",
        "4. Explain *why* Adam often performs better than plain SGD.\n",
        "\n",
        "---\n"
      ]
    },
    {
      "cell_type": "markdown",
      "metadata": {},
      "source": [
        "> **SGD**"
      ]
    },
    {
      "cell_type": "code",
      "execution_count": 5,
      "metadata": {},
      "outputs": [
        {
          "name": "stdout",
          "output_type": "stream",
          "text": [
            "Epoch 1/50\n"
          ]
        },
        {
          "name": "stderr",
          "output_type": "stream",
          "text": [
            "C:\\Users\\User\\AppData\\Roaming\\Python\\Python313\\site-packages\\keras\\src\\layers\\core\\dense.py:92: UserWarning: Do not pass an `input_shape`/`input_dim` argument to a layer. When using Sequential models, prefer using an `Input(shape)` object as the first layer in the model instead.\n",
            "  super().__init__(activity_regularizer=activity_regularizer, **kwargs)\n"
          ]
        },
        {
          "name": "stdout",
          "output_type": "stream",
          "text": [
            "\u001b[1m2137/2137\u001b[0m \u001b[32m━━━━━━━━━━━━━━━━━━━━\u001b[0m\u001b[37m\u001b[0m \u001b[1m3s\u001b[0m 1ms/step - accuracy: 0.8298 - loss: 0.3656 - val_accuracy: 0.8405 - val_loss: 0.3348\n",
            "Epoch 2/50\n",
            "\u001b[1m2137/2137\u001b[0m \u001b[32m━━━━━━━━━━━━━━━━━━━━\u001b[0m\u001b[37m\u001b[0m \u001b[1m2s\u001b[0m 1ms/step - accuracy: 0.8498 - loss: 0.3232 - val_accuracy: 0.8470 - val_loss: 0.3219\n",
            "Epoch 3/50\n",
            "\u001b[1m2137/2137\u001b[0m \u001b[32m━━━━━━━━━━━━━━━━━━━━\u001b[0m\u001b[37m\u001b[0m \u001b[1m2s\u001b[0m 1ms/step - accuracy: 0.8534 - loss: 0.3155 - val_accuracy: 0.8474 - val_loss: 0.3181\n",
            "Epoch 4/50\n",
            "\u001b[1m2137/2137\u001b[0m \u001b[32m━━━━━━━━━━━━━━━━━━━━\u001b[0m\u001b[37m\u001b[0m \u001b[1m2s\u001b[0m 1ms/step - accuracy: 0.8553 - loss: 0.3121 - val_accuracy: 0.8470 - val_loss: 0.3169\n",
            "Epoch 5/50\n",
            "\u001b[1m2137/2137\u001b[0m \u001b[32m━━━━━━━━━━━━━━━━━━━━\u001b[0m\u001b[37m\u001b[0m \u001b[1m2s\u001b[0m 1ms/step - accuracy: 0.8559 - loss: 0.3103 - val_accuracy: 0.8472 - val_loss: 0.3155\n",
            "Epoch 6/50\n",
            "\u001b[1m2137/2137\u001b[0m \u001b[32m━━━━━━━━━━━━━━━━━━━━\u001b[0m\u001b[37m\u001b[0m \u001b[1m2s\u001b[0m 1ms/step - accuracy: 0.8573 - loss: 0.3092 - val_accuracy: 0.8502 - val_loss: 0.3130\n",
            "Epoch 7/50\n",
            "\u001b[1m2137/2137\u001b[0m \u001b[32m━━━━━━━━━━━━━━━━━━━━\u001b[0m\u001b[37m\u001b[0m \u001b[1m2s\u001b[0m 962us/step - accuracy: 0.8568 - loss: 0.3082 - val_accuracy: 0.8523 - val_loss: 0.3131\n",
            "Epoch 8/50\n",
            "\u001b[1m2137/2137\u001b[0m \u001b[32m━━━━━━━━━━━━━━━━━━━━\u001b[0m\u001b[37m\u001b[0m \u001b[1m2s\u001b[0m 1ms/step - accuracy: 0.8563 - loss: 0.3076 - val_accuracy: 0.8529 - val_loss: 0.3119\n",
            "Epoch 9/50\n",
            "\u001b[1m2137/2137\u001b[0m \u001b[32m━━━━━━━━━━━━━━━━━━━━\u001b[0m\u001b[37m\u001b[0m \u001b[1m2s\u001b[0m 984us/step - accuracy: 0.8578 - loss: 0.3069 - val_accuracy: 0.8528 - val_loss: 0.3132\n",
            "Epoch 10/50\n",
            "\u001b[1m2137/2137\u001b[0m \u001b[32m━━━━━━━━━━━━━━━━━━━━\u001b[0m\u001b[37m\u001b[0m \u001b[1m2s\u001b[0m 970us/step - accuracy: 0.8580 - loss: 0.3063 - val_accuracy: 0.8530 - val_loss: 0.3112\n",
            "Epoch 11/50\n",
            "\u001b[1m2137/2137\u001b[0m \u001b[32m━━━━━━━━━━━━━━━━━━━━\u001b[0m\u001b[37m\u001b[0m \u001b[1m2s\u001b[0m 978us/step - accuracy: 0.8584 - loss: 0.3058 - val_accuracy: 0.8515 - val_loss: 0.3119\n",
            "Epoch 12/50\n",
            "\u001b[1m2137/2137\u001b[0m \u001b[32m━━━━━━━━━━━━━━━━━━━━\u001b[0m\u001b[37m\u001b[0m \u001b[1m2s\u001b[0m 988us/step - accuracy: 0.8578 - loss: 0.3054 - val_accuracy: 0.8537 - val_loss: 0.3111\n",
            "Epoch 13/50\n",
            "\u001b[1m2137/2137\u001b[0m \u001b[32m━━━━━━━━━━━━━━━━━━━━\u001b[0m\u001b[37m\u001b[0m \u001b[1m2s\u001b[0m 996us/step - accuracy: 0.8581 - loss: 0.3051 - val_accuracy: 0.8549 - val_loss: 0.3105\n",
            "Epoch 14/50\n",
            "\u001b[1m2137/2137\u001b[0m \u001b[32m━━━━━━━━━━━━━━━━━━━━\u001b[0m\u001b[37m\u001b[0m \u001b[1m2s\u001b[0m 958us/step - accuracy: 0.8586 - loss: 0.3046 - val_accuracy: 0.8526 - val_loss: 0.3102\n",
            "Epoch 15/50\n",
            "\u001b[1m2137/2137\u001b[0m \u001b[32m━━━━━━━━━━━━━━━━━━━━\u001b[0m\u001b[37m\u001b[0m \u001b[1m2s\u001b[0m 958us/step - accuracy: 0.8589 - loss: 0.3043 - val_accuracy: 0.8551 - val_loss: 0.3100\n",
            "Epoch 16/50\n",
            "\u001b[1m2137/2137\u001b[0m \u001b[32m━━━━━━━━━━━━━━━━━━━━\u001b[0m\u001b[37m\u001b[0m \u001b[1m2s\u001b[0m 920us/step - accuracy: 0.8587 - loss: 0.3041 - val_accuracy: 0.8532 - val_loss: 0.3104\n",
            "Epoch 17/50\n",
            "\u001b[1m2137/2137\u001b[0m \u001b[32m━━━━━━━━━━━━━━━━━━━━\u001b[0m\u001b[37m\u001b[0m \u001b[1m2s\u001b[0m 881us/step - accuracy: 0.8600 - loss: 0.3038 - val_accuracy: 0.8541 - val_loss: 0.3096\n",
            "Epoch 18/50\n",
            "\u001b[1m2137/2137\u001b[0m \u001b[32m━━━━━━━━━━━━━━━━━━━━\u001b[0m\u001b[37m\u001b[0m \u001b[1m2s\u001b[0m 925us/step - accuracy: 0.8594 - loss: 0.3032 - val_accuracy: 0.8529 - val_loss: 0.3110\n",
            "Epoch 19/50\n",
            "\u001b[1m2137/2137\u001b[0m \u001b[32m━━━━━━━━━━━━━━━━━━━━\u001b[0m\u001b[37m\u001b[0m \u001b[1m2s\u001b[0m 893us/step - accuracy: 0.8593 - loss: 0.3030 - val_accuracy: 0.8559 - val_loss: 0.3095\n",
            "Epoch 20/50\n",
            "\u001b[1m2137/2137\u001b[0m \u001b[32m━━━━━━━━━━━━━━━━━━━━\u001b[0m\u001b[37m\u001b[0m \u001b[1m2s\u001b[0m 946us/step - accuracy: 0.8603 - loss: 0.3028 - val_accuracy: 0.8545 - val_loss: 0.3094\n",
            "Epoch 21/50\n",
            "\u001b[1m2137/2137\u001b[0m \u001b[32m━━━━━━━━━━━━━━━━━━━━\u001b[0m\u001b[37m\u001b[0m \u001b[1m2s\u001b[0m 967us/step - accuracy: 0.8602 - loss: 0.3025 - val_accuracy: 0.8551 - val_loss: 0.3101\n",
            "Epoch 22/50\n",
            "\u001b[1m2137/2137\u001b[0m \u001b[32m━━━━━━━━━━━━━━━━━━━━\u001b[0m\u001b[37m\u001b[0m \u001b[1m2s\u001b[0m 984us/step - accuracy: 0.8593 - loss: 0.3022 - val_accuracy: 0.8519 - val_loss: 0.3096\n",
            "Epoch 23/50\n",
            "\u001b[1m2137/2137\u001b[0m \u001b[32m━━━━━━━━━━━━━━━━━━━━\u001b[0m\u001b[37m\u001b[0m \u001b[1m2s\u001b[0m 961us/step - accuracy: 0.8610 - loss: 0.3020 - val_accuracy: 0.8552 - val_loss: 0.3098\n",
            "Epoch 24/50\n",
            "\u001b[1m2137/2137\u001b[0m \u001b[32m━━━━━━━━━━━━━━━━━━━━\u001b[0m\u001b[37m\u001b[0m \u001b[1m2s\u001b[0m 989us/step - accuracy: 0.8601 - loss: 0.3016 - val_accuracy: 0.8545 - val_loss: 0.3090\n",
            "Epoch 25/50\n",
            "\u001b[1m2137/2137\u001b[0m \u001b[32m━━━━━━━━━━━━━━━━━━━━\u001b[0m\u001b[37m\u001b[0m \u001b[1m2s\u001b[0m 899us/step - accuracy: 0.8602 - loss: 0.3015 - val_accuracy: 0.8547 - val_loss: 0.3086\n",
            "Epoch 26/50\n",
            "\u001b[1m2137/2137\u001b[0m \u001b[32m━━━━━━━━━━━━━━━━━━━━\u001b[0m\u001b[37m\u001b[0m \u001b[1m2s\u001b[0m 898us/step - accuracy: 0.8609 - loss: 0.3012 - val_accuracy: 0.8544 - val_loss: 0.3093\n",
            "Epoch 27/50\n",
            "\u001b[1m2137/2137\u001b[0m \u001b[32m━━━━━━━━━━━━━━━━━━━━\u001b[0m\u001b[37m\u001b[0m \u001b[1m2s\u001b[0m 894us/step - accuracy: 0.8610 - loss: 0.3010 - val_accuracy: 0.8547 - val_loss: 0.3085\n",
            "Epoch 28/50\n",
            "\u001b[1m2137/2137\u001b[0m \u001b[32m━━━━━━━━━━━━━━━━━━━━\u001b[0m\u001b[37m\u001b[0m \u001b[1m2s\u001b[0m 953us/step - accuracy: 0.8609 - loss: 0.3005 - val_accuracy: 0.8543 - val_loss: 0.3093\n",
            "Epoch 29/50\n",
            "\u001b[1m2137/2137\u001b[0m \u001b[32m━━━━━━━━━━━━━━━━━━━━\u001b[0m\u001b[37m\u001b[0m \u001b[1m2s\u001b[0m 892us/step - accuracy: 0.8607 - loss: 0.3004 - val_accuracy: 0.8545 - val_loss: 0.3087\n",
            "Epoch 30/50\n",
            "\u001b[1m2137/2137\u001b[0m \u001b[32m━━━━━━━━━━━━━━━━━━━━\u001b[0m\u001b[37m\u001b[0m \u001b[1m2s\u001b[0m 1ms/step - accuracy: 0.8613 - loss: 0.3001 - val_accuracy: 0.8547 - val_loss: 0.3096\n",
            "Epoch 31/50\n",
            "\u001b[1m2137/2137\u001b[0m \u001b[32m━━━━━━━━━━━━━━━━━━━━\u001b[0m\u001b[37m\u001b[0m \u001b[1m2s\u001b[0m 1ms/step - accuracy: 0.8607 - loss: 0.2999 - val_accuracy: 0.8545 - val_loss: 0.3095\n",
            "Epoch 32/50\n",
            "\u001b[1m2137/2137\u001b[0m \u001b[32m━━━━━━━━━━━━━━━━━━━━\u001b[0m\u001b[37m\u001b[0m \u001b[1m2s\u001b[0m 918us/step - accuracy: 0.8614 - loss: 0.2996 - val_accuracy: 0.8558 - val_loss: 0.3091\n",
            "Epoch 33/50\n",
            "\u001b[1m2137/2137\u001b[0m \u001b[32m━━━━━━━━━━━━━━━━━━━━\u001b[0m\u001b[37m\u001b[0m \u001b[1m2s\u001b[0m 1ms/step - accuracy: 0.8613 - loss: 0.2996 - val_accuracy: 0.8564 - val_loss: 0.3088\n",
            "Epoch 34/50\n",
            "\u001b[1m2137/2137\u001b[0m \u001b[32m━━━━━━━━━━━━━━━━━━━━\u001b[0m\u001b[37m\u001b[0m \u001b[1m2s\u001b[0m 928us/step - accuracy: 0.8612 - loss: 0.2994 - val_accuracy: 0.8573 - val_loss: 0.3092\n",
            "Epoch 35/50\n",
            "\u001b[1m2137/2137\u001b[0m \u001b[32m━━━━━━━━━━━━━━━━━━━━\u001b[0m\u001b[37m\u001b[0m \u001b[1m2s\u001b[0m 922us/step - accuracy: 0.8611 - loss: 0.2990 - val_accuracy: 0.8532 - val_loss: 0.3089\n",
            "Epoch 36/50\n",
            "\u001b[1m2137/2137\u001b[0m \u001b[32m━━━━━━━━━━━━━━━━━━━━\u001b[0m\u001b[37m\u001b[0m \u001b[1m2s\u001b[0m 908us/step - accuracy: 0.8623 - loss: 0.2985 - val_accuracy: 0.8538 - val_loss: 0.3111\n",
            "Epoch 37/50\n",
            "\u001b[1m2137/2137\u001b[0m \u001b[32m━━━━━━━━━━━━━━━━━━━━\u001b[0m\u001b[37m\u001b[0m \u001b[1m2s\u001b[0m 980us/step - accuracy: 0.8612 - loss: 0.2984 - val_accuracy: 0.8544 - val_loss: 0.3084\n",
            "Epoch 38/50\n",
            "\u001b[1m2137/2137\u001b[0m \u001b[32m━━━━━━━━━━━━━━━━━━━━\u001b[0m\u001b[37m\u001b[0m \u001b[1m2s\u001b[0m 956us/step - accuracy: 0.8622 - loss: 0.2983 - val_accuracy: 0.8548 - val_loss: 0.3095\n",
            "Epoch 39/50\n",
            "\u001b[1m2137/2137\u001b[0m \u001b[32m━━━━━━━━━━━━━━━━━━━━\u001b[0m\u001b[37m\u001b[0m \u001b[1m2s\u001b[0m 945us/step - accuracy: 0.8626 - loss: 0.2980 - val_accuracy: 0.8544 - val_loss: 0.3086\n",
            "Epoch 40/50\n",
            "\u001b[1m2137/2137\u001b[0m \u001b[32m━━━━━━━━━━━━━━━━━━━━\u001b[0m\u001b[37m\u001b[0m \u001b[1m2s\u001b[0m 983us/step - accuracy: 0.8620 - loss: 0.2979 - val_accuracy: 0.8552 - val_loss: 0.3093\n",
            "Epoch 41/50\n",
            "\u001b[1m2137/2137\u001b[0m \u001b[32m━━━━━━━━━━━━━━━━━━━━\u001b[0m\u001b[37m\u001b[0m \u001b[1m2s\u001b[0m 972us/step - accuracy: 0.8612 - loss: 0.2975 - val_accuracy: 0.8563 - val_loss: 0.3086\n",
            "Epoch 42/50\n",
            "\u001b[1m2137/2137\u001b[0m \u001b[32m━━━━━━━━━━━━━━━━━━━━\u001b[0m\u001b[37m\u001b[0m \u001b[1m2s\u001b[0m 897us/step - accuracy: 0.8621 - loss: 0.2974 - val_accuracy: 0.8549 - val_loss: 0.3092\n",
            "Epoch 43/50\n",
            "\u001b[1m2137/2137\u001b[0m \u001b[32m━━━━━━━━━━━━━━━━━━━━\u001b[0m\u001b[37m\u001b[0m \u001b[1m2s\u001b[0m 902us/step - accuracy: 0.8619 - loss: 0.2973 - val_accuracy: 0.8558 - val_loss: 0.3080\n",
            "Epoch 44/50\n",
            "\u001b[1m2137/2137\u001b[0m \u001b[32m━━━━━━━━━━━━━━━━━━━━\u001b[0m\u001b[37m\u001b[0m \u001b[1m2s\u001b[0m 978us/step - accuracy: 0.8624 - loss: 0.2968 - val_accuracy: 0.8551 - val_loss: 0.3082\n",
            "Epoch 45/50\n",
            "\u001b[1m2137/2137\u001b[0m \u001b[32m━━━━━━━━━━━━━━━━━━━━\u001b[0m\u001b[37m\u001b[0m \u001b[1m2s\u001b[0m 984us/step - accuracy: 0.8624 - loss: 0.2968 - val_accuracy: 0.8537 - val_loss: 0.3099\n",
            "Epoch 46/50\n",
            "\u001b[1m2137/2137\u001b[0m \u001b[32m━━━━━━━━━━━━━━━━━━━━\u001b[0m\u001b[37m\u001b[0m \u001b[1m2s\u001b[0m 877us/step - accuracy: 0.8619 - loss: 0.2967 - val_accuracy: 0.8553 - val_loss: 0.3081\n",
            "Epoch 47/50\n",
            "\u001b[1m2137/2137\u001b[0m \u001b[32m━━━━━━━━━━━━━━━━━━━━\u001b[0m\u001b[37m\u001b[0m \u001b[1m2s\u001b[0m 917us/step - accuracy: 0.8637 - loss: 0.2963 - val_accuracy: 0.8552 - val_loss: 0.3084\n",
            "Epoch 48/50\n",
            "\u001b[1m2137/2137\u001b[0m \u001b[32m━━━━━━━━━━━━━━━━━━━━\u001b[0m\u001b[37m\u001b[0m \u001b[1m2s\u001b[0m 933us/step - accuracy: 0.8628 - loss: 0.2962 - val_accuracy: 0.8563 - val_loss: 0.3080\n",
            "Epoch 49/50\n",
            "\u001b[1m2137/2137\u001b[0m \u001b[32m━━━━━━━━━━━━━━━━━━━━\u001b[0m\u001b[37m\u001b[0m \u001b[1m2s\u001b[0m 941us/step - accuracy: 0.8635 - loss: 0.2959 - val_accuracy: 0.8575 - val_loss: 0.3087\n",
            "Epoch 50/50\n",
            "\u001b[1m2137/2137\u001b[0m \u001b[32m━━━━━━━━━━━━━━━━━━━━\u001b[0m\u001b[37m\u001b[0m \u001b[1m2s\u001b[0m 969us/step - accuracy: 0.8630 - loss: 0.2957 - val_accuracy: 0.8555 - val_loss: 0.3091\n"
          ]
        }
      ],
      "source": [
        "from tensorflow.keras.models import Sequential\n",
        "from tensorflow.keras.layers import Dense\n",
        "from tensorflow.keras.optimizers import SGD\n",
        "\n",
        "model_sgd = Sequential()\n",
        "\n",
        "model_sgd.add(Dense(64, activation='relu', input_shape=(108,)))\n",
        "\n",
        "model_sgd.add(Dense(1, activation='sigmoid'))\n",
        "\n",
        "optimizer = SGD(learning_rate=0.01)\n",
        "\n",
        "model_sgd.compile(optimizer=optimizer, loss='binary_crossentropy', metrics=['accuracy'])\n",
        "y_train = y_train.astype(\"int32\")\n",
        "y_val = y_val.astype(\"int32\")\n",
        "y_test = y_test.astype(\"int32\")\n",
        "\n",
        "history = model_sgd.fit(X_train, y_train, validation_data=(X_val, y_val), epochs=50, batch_size=16)"
      ]
    },
    {
      "cell_type": "markdown",
      "metadata": {},
      "source": [
        "> **SGD With Momentum**"
      ]
    },
    {
      "cell_type": "code",
      "execution_count": 6,
      "metadata": {
        "id": "wnoISz2rHMJ0"
      },
      "outputs": [
        {
          "name": "stdout",
          "output_type": "stream",
          "text": [
            "Epoch 1/50\n"
          ]
        },
        {
          "name": "stderr",
          "output_type": "stream",
          "text": [
            "C:\\Users\\User\\AppData\\Roaming\\Python\\Python313\\site-packages\\keras\\src\\layers\\core\\dense.py:92: UserWarning: Do not pass an `input_shape`/`input_dim` argument to a layer. When using Sequential models, prefer using an `Input(shape)` object as the first layer in the model instead.\n",
            "  super().__init__(activity_regularizer=activity_regularizer, **kwargs)\n"
          ]
        },
        {
          "name": "stdout",
          "output_type": "stream",
          "text": [
            "\u001b[1m2137/2137\u001b[0m \u001b[32m━━━━━━━━━━━━━━━━━━━━\u001b[0m\u001b[37m\u001b[0m \u001b[1m3s\u001b[0m 1ms/step - accuracy: 0.8496 - loss: 0.3259 - val_accuracy: 0.8521 - val_loss: 0.3132\n",
            "Epoch 2/50\n",
            "\u001b[1m2137/2137\u001b[0m \u001b[32m━━━━━━━━━━━━━━━━━━━━\u001b[0m\u001b[37m\u001b[0m \u001b[1m2s\u001b[0m 1ms/step - accuracy: 0.8546 - loss: 0.3116 - val_accuracy: 0.8523 - val_loss: 0.3144\n",
            "Epoch 3/50\n",
            "\u001b[1m2137/2137\u001b[0m \u001b[32m━━━━━━━━━━━━━━━━━━━━\u001b[0m\u001b[37m\u001b[0m \u001b[1m2s\u001b[0m 1ms/step - accuracy: 0.8570 - loss: 0.3086 - val_accuracy: 0.8529 - val_loss: 0.3135\n",
            "Epoch 4/50\n",
            "\u001b[1m2137/2137\u001b[0m \u001b[32m━━━━━━━━━━━━━━━━━━━━\u001b[0m\u001b[37m\u001b[0m \u001b[1m2s\u001b[0m 1ms/step - accuracy: 0.8570 - loss: 0.3073 - val_accuracy: 0.8491 - val_loss: 0.3138\n",
            "Epoch 5/50\n",
            "\u001b[1m2137/2137\u001b[0m \u001b[32m━━━━━━━━━━━━━━━━━━━━\u001b[0m\u001b[37m\u001b[0m \u001b[1m2s\u001b[0m 1ms/step - accuracy: 0.8571 - loss: 0.3054 - val_accuracy: 0.8549 - val_loss: 0.3116\n",
            "Epoch 6/50\n",
            "\u001b[1m2137/2137\u001b[0m \u001b[32m━━━━━━━━━━━━━━━━━━━━\u001b[0m\u001b[37m\u001b[0m \u001b[1m2s\u001b[0m 1ms/step - accuracy: 0.8581 - loss: 0.3042 - val_accuracy: 0.8549 - val_loss: 0.3085\n",
            "Epoch 7/50\n",
            "\u001b[1m2137/2137\u001b[0m \u001b[32m━━━━━━━━━━━━━━━━━━━━\u001b[0m\u001b[37m\u001b[0m \u001b[1m3s\u001b[0m 1ms/step - accuracy: 0.8587 - loss: 0.3036 - val_accuracy: 0.8548 - val_loss: 0.3131\n",
            "Epoch 8/50\n",
            "\u001b[1m2137/2137\u001b[0m \u001b[32m━━━━━━━━━━━━━━━━━━━━\u001b[0m\u001b[37m\u001b[0m \u001b[1m2s\u001b[0m 1ms/step - accuracy: 0.8587 - loss: 0.3030 - val_accuracy: 0.8519 - val_loss: 0.3109\n",
            "Epoch 9/50\n",
            "\u001b[1m2137/2137\u001b[0m \u001b[32m━━━━━━━━━━━━━━━━━━━━\u001b[0m\u001b[37m\u001b[0m \u001b[1m2s\u001b[0m 987us/step - accuracy: 0.8603 - loss: 0.3015 - val_accuracy: 0.8545 - val_loss: 0.3083\n",
            "Epoch 10/50\n",
            "\u001b[1m2137/2137\u001b[0m \u001b[32m━━━━━━━━━━━━━━━━━━━━\u001b[0m\u001b[37m\u001b[0m \u001b[1m2s\u001b[0m 1ms/step - accuracy: 0.8610 - loss: 0.3006 - val_accuracy: 0.8503 - val_loss: 0.3125\n",
            "Epoch 11/50\n",
            "\u001b[1m2137/2137\u001b[0m \u001b[32m━━━━━━━━━━━━━━━━━━━━\u001b[0m\u001b[37m\u001b[0m \u001b[1m2s\u001b[0m 1ms/step - accuracy: 0.8620 - loss: 0.2999 - val_accuracy: 0.8570 - val_loss: 0.3084\n",
            "Epoch 12/50\n",
            "\u001b[1m2137/2137\u001b[0m \u001b[32m━━━━━━━━━━━━━━━━━━━━\u001b[0m\u001b[37m\u001b[0m \u001b[1m2s\u001b[0m 1ms/step - accuracy: 0.8616 - loss: 0.2988 - val_accuracy: 0.8569 - val_loss: 0.3099\n",
            "Epoch 13/50\n",
            "\u001b[1m2137/2137\u001b[0m \u001b[32m━━━━━━━━━━━━━━━━━━━━\u001b[0m\u001b[37m\u001b[0m \u001b[1m2s\u001b[0m 1ms/step - accuracy: 0.8619 - loss: 0.2985 - val_accuracy: 0.8551 - val_loss: 0.3111\n",
            "Epoch 14/50\n",
            "\u001b[1m2137/2137\u001b[0m \u001b[32m━━━━━━━━━━━━━━━━━━━━\u001b[0m\u001b[37m\u001b[0m \u001b[1m2s\u001b[0m 1ms/step - accuracy: 0.8609 - loss: 0.2972 - val_accuracy: 0.8532 - val_loss: 0.3125\n",
            "Epoch 15/50\n",
            "\u001b[1m2137/2137\u001b[0m \u001b[32m━━━━━━━━━━━━━━━━━━━━\u001b[0m\u001b[37m\u001b[0m \u001b[1m2s\u001b[0m 1ms/step - accuracy: 0.8621 - loss: 0.2973 - val_accuracy: 0.8548 - val_loss: 0.3098\n",
            "Epoch 16/50\n",
            "\u001b[1m2137/2137\u001b[0m \u001b[32m━━━━━━━━━━━━━━━━━━━━\u001b[0m\u001b[37m\u001b[0m \u001b[1m2s\u001b[0m 1ms/step - accuracy: 0.8637 - loss: 0.2960 - val_accuracy: 0.8543 - val_loss: 0.3152\n",
            "Epoch 17/50\n",
            "\u001b[1m2137/2137\u001b[0m \u001b[32m━━━━━━━━━━━━━━━━━━━━\u001b[0m\u001b[37m\u001b[0m \u001b[1m2s\u001b[0m 988us/step - accuracy: 0.8631 - loss: 0.2948 - val_accuracy: 0.8559 - val_loss: 0.3097\n",
            "Epoch 18/50\n",
            "\u001b[1m2137/2137\u001b[0m \u001b[32m━━━━━━━━━━━━━━━━━━━━\u001b[0m\u001b[37m\u001b[0m \u001b[1m2s\u001b[0m 1ms/step - accuracy: 0.8637 - loss: 0.2944 - val_accuracy: 0.8547 - val_loss: 0.3106\n",
            "Epoch 19/50\n",
            "\u001b[1m2137/2137\u001b[0m \u001b[32m━━━━━━━━━━━━━━━━━━━━\u001b[0m\u001b[37m\u001b[0m \u001b[1m2s\u001b[0m 1ms/step - accuracy: 0.8633 - loss: 0.2940 - val_accuracy: 0.8536 - val_loss: 0.3121\n",
            "Epoch 20/50\n",
            "\u001b[1m2137/2137\u001b[0m \u001b[32m━━━━━━━━━━━━━━━━━━━━\u001b[0m\u001b[37m\u001b[0m \u001b[1m2s\u001b[0m 1ms/step - accuracy: 0.8645 - loss: 0.2924 - val_accuracy: 0.8547 - val_loss: 0.3130\n",
            "Epoch 21/50\n",
            "\u001b[1m2137/2137\u001b[0m \u001b[32m━━━━━━━━━━━━━━━━━━━━\u001b[0m\u001b[37m\u001b[0m \u001b[1m2s\u001b[0m 1ms/step - accuracy: 0.8647 - loss: 0.2914 - val_accuracy: 0.8510 - val_loss: 0.3128\n",
            "Epoch 22/50\n",
            "\u001b[1m2137/2137\u001b[0m \u001b[32m━━━━━━━━━━━━━━━━━━━━\u001b[0m\u001b[37m\u001b[0m \u001b[1m2s\u001b[0m 1ms/step - accuracy: 0.8635 - loss: 0.2916 - val_accuracy: 0.8528 - val_loss: 0.3144\n",
            "Epoch 23/50\n",
            "\u001b[1m2137/2137\u001b[0m \u001b[32m━━━━━━━━━━━━━━━━━━━━\u001b[0m\u001b[37m\u001b[0m \u001b[1m2s\u001b[0m 999us/step - accuracy: 0.8648 - loss: 0.2905 - val_accuracy: 0.8563 - val_loss: 0.3138\n",
            "Epoch 24/50\n",
            "\u001b[1m2137/2137\u001b[0m \u001b[32m━━━━━━━━━━━━━━━━━━━━\u001b[0m\u001b[37m\u001b[0m \u001b[1m2s\u001b[0m 1ms/step - accuracy: 0.8653 - loss: 0.2894 - val_accuracy: 0.8551 - val_loss: 0.3130\n",
            "Epoch 25/50\n",
            "\u001b[1m2137/2137\u001b[0m \u001b[32m━━━━━━━━━━━━━━━━━━━━\u001b[0m\u001b[37m\u001b[0m \u001b[1m2s\u001b[0m 1ms/step - accuracy: 0.8652 - loss: 0.2885 - val_accuracy: 0.8566 - val_loss: 0.3114\n",
            "Epoch 26/50\n",
            "\u001b[1m2137/2137\u001b[0m \u001b[32m━━━━━━━━━━━━━━━━━━━━\u001b[0m\u001b[37m\u001b[0m \u001b[1m2s\u001b[0m 1ms/step - accuracy: 0.8656 - loss: 0.2883 - val_accuracy: 0.8560 - val_loss: 0.3150\n",
            "Epoch 27/50\n",
            "\u001b[1m2137/2137\u001b[0m \u001b[32m━━━━━━━━━━━━━━━━━━━━\u001b[0m\u001b[37m\u001b[0m \u001b[1m2s\u001b[0m 1ms/step - accuracy: 0.8658 - loss: 0.2875 - val_accuracy: 0.8538 - val_loss: 0.3171\n",
            "Epoch 28/50\n",
            "\u001b[1m2137/2137\u001b[0m \u001b[32m━━━━━━━━━━━━━━━━━━━━\u001b[0m\u001b[37m\u001b[0m \u001b[1m2s\u001b[0m 1ms/step - accuracy: 0.8670 - loss: 0.2869 - val_accuracy: 0.8548 - val_loss: 0.3146\n",
            "Epoch 29/50\n",
            "\u001b[1m2137/2137\u001b[0m \u001b[32m━━━━━━━━━━━━━━━━━━━━\u001b[0m\u001b[37m\u001b[0m \u001b[1m2s\u001b[0m 998us/step - accuracy: 0.8665 - loss: 0.2859 - val_accuracy: 0.8552 - val_loss: 0.3159\n",
            "Epoch 30/50\n",
            "\u001b[1m2137/2137\u001b[0m \u001b[32m━━━━━━━━━━━━━━━━━━━━\u001b[0m\u001b[37m\u001b[0m \u001b[1m2s\u001b[0m 996us/step - accuracy: 0.8685 - loss: 0.2852 - val_accuracy: 0.8545 - val_loss: 0.3142\n",
            "Epoch 31/50\n",
            "\u001b[1m2137/2137\u001b[0m \u001b[32m━━━━━━━━━━━━━━━━━━━━\u001b[0m\u001b[37m\u001b[0m \u001b[1m2s\u001b[0m 1ms/step - accuracy: 0.8681 - loss: 0.2842 - val_accuracy: 0.8515 - val_loss: 0.3152\n",
            "Epoch 32/50\n",
            "\u001b[1m2137/2137\u001b[0m \u001b[32m━━━━━━━━━━━━━━━━━━━━\u001b[0m\u001b[37m\u001b[0m \u001b[1m2s\u001b[0m 996us/step - accuracy: 0.8683 - loss: 0.2842 - val_accuracy: 0.8507 - val_loss: 0.3188\n",
            "Epoch 33/50\n",
            "\u001b[1m2137/2137\u001b[0m \u001b[32m━━━━━━━━━━━━━━━━━━━━\u001b[0m\u001b[37m\u001b[0m \u001b[1m2s\u001b[0m 998us/step - accuracy: 0.8680 - loss: 0.2832 - val_accuracy: 0.8529 - val_loss: 0.3178\n",
            "Epoch 34/50\n",
            "\u001b[1m2137/2137\u001b[0m \u001b[32m━━━━━━━━━━━━━━━━━━━━\u001b[0m\u001b[37m\u001b[0m \u001b[1m2s\u001b[0m 1ms/step - accuracy: 0.8670 - loss: 0.2819 - val_accuracy: 0.8483 - val_loss: 0.3292\n",
            "Epoch 35/50\n",
            "\u001b[1m2137/2137\u001b[0m \u001b[32m━━━━━━━━━━━━━━━━━━━━\u001b[0m\u001b[37m\u001b[0m \u001b[1m2s\u001b[0m 1ms/step - accuracy: 0.8678 - loss: 0.2825 - val_accuracy: 0.8536 - val_loss: 0.3173\n",
            "Epoch 36/50\n",
            "\u001b[1m2137/2137\u001b[0m \u001b[32m━━━━━━━━━━━━━━━━━━━━\u001b[0m\u001b[37m\u001b[0m \u001b[1m2s\u001b[0m 999us/step - accuracy: 0.8684 - loss: 0.2819 - val_accuracy: 0.8500 - val_loss: 0.3187\n",
            "Epoch 37/50\n",
            "\u001b[1m2137/2137\u001b[0m \u001b[32m━━━━━━━━━━━━━━━━━━━━\u001b[0m\u001b[37m\u001b[0m \u001b[1m2s\u001b[0m 1ms/step - accuracy: 0.8682 - loss: 0.2814 - val_accuracy: 0.8536 - val_loss: 0.3199\n",
            "Epoch 38/50\n",
            "\u001b[1m2137/2137\u001b[0m \u001b[32m━━━━━━━━━━━━━━━━━━━━\u001b[0m\u001b[37m\u001b[0m \u001b[1m2s\u001b[0m 1ms/step - accuracy: 0.8677 - loss: 0.2808 - val_accuracy: 0.8510 - val_loss: 0.3206\n",
            "Epoch 39/50\n",
            "\u001b[1m2137/2137\u001b[0m \u001b[32m━━━━━━━━━━━━━━━━━━━━\u001b[0m\u001b[37m\u001b[0m \u001b[1m2s\u001b[0m 990us/step - accuracy: 0.8685 - loss: 0.2799 - val_accuracy: 0.8540 - val_loss: 0.3204\n",
            "Epoch 40/50\n",
            "\u001b[1m2137/2137\u001b[0m \u001b[32m━━━━━━━━━━━━━━━━━━━━\u001b[0m\u001b[37m\u001b[0m \u001b[1m2s\u001b[0m 1ms/step - accuracy: 0.8690 - loss: 0.2799 - val_accuracy: 0.8518 - val_loss: 0.3207\n",
            "Epoch 41/50\n",
            "\u001b[1m2137/2137\u001b[0m \u001b[32m━━━━━━━━━━━━━━━━━━━━\u001b[0m\u001b[37m\u001b[0m \u001b[1m2s\u001b[0m 1ms/step - accuracy: 0.8698 - loss: 0.2788 - val_accuracy: 0.8511 - val_loss: 0.3315\n",
            "Epoch 42/50\n",
            "\u001b[1m2137/2137\u001b[0m \u001b[32m━━━━━━━━━━━━━━━━━━━━\u001b[0m\u001b[37m\u001b[0m \u001b[1m2s\u001b[0m 977us/step - accuracy: 0.8701 - loss: 0.2794 - val_accuracy: 0.8507 - val_loss: 0.3216\n",
            "Epoch 43/50\n",
            "\u001b[1m2137/2137\u001b[0m \u001b[32m━━━━━━━━━━━━━━━━━━━━\u001b[0m\u001b[37m\u001b[0m \u001b[1m2s\u001b[0m 1ms/step - accuracy: 0.8707 - loss: 0.2778 - val_accuracy: 0.8513 - val_loss: 0.3236\n",
            "Epoch 44/50\n",
            "\u001b[1m2137/2137\u001b[0m \u001b[32m━━━━━━━━━━━━━━━━━━━━\u001b[0m\u001b[37m\u001b[0m \u001b[1m2s\u001b[0m 1ms/step - accuracy: 0.8706 - loss: 0.2768 - val_accuracy: 0.8547 - val_loss: 0.3206\n",
            "Epoch 45/50\n",
            "\u001b[1m2137/2137\u001b[0m \u001b[32m━━━━━━━━━━━━━━━━━━━━\u001b[0m\u001b[37m\u001b[0m \u001b[1m2s\u001b[0m 1ms/step - accuracy: 0.8708 - loss: 0.2772 - val_accuracy: 0.8461 - val_loss: 0.3307\n",
            "Epoch 46/50\n",
            "\u001b[1m2137/2137\u001b[0m \u001b[32m━━━━━━━━━━━━━━━━━━━━\u001b[0m\u001b[37m\u001b[0m \u001b[1m2s\u001b[0m 1ms/step - accuracy: 0.8706 - loss: 0.2770 - val_accuracy: 0.8533 - val_loss: 0.3230\n",
            "Epoch 47/50\n",
            "\u001b[1m2137/2137\u001b[0m \u001b[32m━━━━━━━━━━━━━━━━━━━━\u001b[0m\u001b[37m\u001b[0m \u001b[1m2s\u001b[0m 1ms/step - accuracy: 0.8700 - loss: 0.2778 - val_accuracy: 0.8541 - val_loss: 0.3219\n",
            "Epoch 48/50\n",
            "\u001b[1m2137/2137\u001b[0m \u001b[32m━━━━━━━━━━━━━━━━━━━━\u001b[0m\u001b[37m\u001b[0m \u001b[1m2s\u001b[0m 1ms/step - accuracy: 0.8700 - loss: 0.2763 - val_accuracy: 0.8540 - val_loss: 0.3221\n",
            "Epoch 49/50\n",
            "\u001b[1m2137/2137\u001b[0m \u001b[32m━━━━━━━━━━━━━━━━━━━━\u001b[0m\u001b[37m\u001b[0m \u001b[1m2s\u001b[0m 1ms/step - accuracy: 0.8714 - loss: 0.2749 - val_accuracy: 0.8532 - val_loss: 0.3227\n",
            "Epoch 50/50\n",
            "\u001b[1m2137/2137\u001b[0m \u001b[32m━━━━━━━━━━━━━━━━━━━━\u001b[0m\u001b[37m\u001b[0m \u001b[1m2s\u001b[0m 997us/step - accuracy: 0.8723 - loss: 0.2737 - val_accuracy: 0.8521 - val_loss: 0.3244\n"
          ]
        }
      ],
      "source": [
        "model_momentum = Sequential()\n",
        "\n",
        "model_momentum.add(Dense(64, activation='relu', input_shape=(108,)))\n",
        "\n",
        "model_momentum.add(Dense(1, activation='sigmoid'))\n",
        "\n",
        "optimizer = SGD(learning_rate=0.01, momentum=0.9)\n",
        "\n",
        "model_momentum.compile(optimizer=optimizer, loss='binary_crossentropy', metrics=['accuracy'])\n",
        "\n",
        "history = model_momentum.fit(X_train, y_train, validation_data=(X_val, y_val), epochs=50, batch_size=16)"
      ]
    },
    {
      "cell_type": "markdown",
      "metadata": {},
      "source": [
        "> **ADAM**"
      ]
    },
    {
      "cell_type": "code",
      "execution_count": 7,
      "metadata": {},
      "outputs": [
        {
          "name": "stdout",
          "output_type": "stream",
          "text": [
            "Epoch 1/50\n"
          ]
        },
        {
          "name": "stderr",
          "output_type": "stream",
          "text": [
            "C:\\Users\\User\\AppData\\Roaming\\Python\\Python313\\site-packages\\keras\\src\\layers\\core\\dense.py:92: UserWarning: Do not pass an `input_shape`/`input_dim` argument to a layer. When using Sequential models, prefer using an `Input(shape)` object as the first layer in the model instead.\n",
            "  super().__init__(activity_regularizer=activity_regularizer, **kwargs)\n"
          ]
        },
        {
          "name": "stdout",
          "output_type": "stream",
          "text": [
            "\u001b[1m2137/2137\u001b[0m \u001b[32m━━━━━━━━━━━━━━━━━━━━\u001b[0m\u001b[37m\u001b[0m \u001b[1m3s\u001b[0m 1ms/step - accuracy: 0.8477 - loss: 0.3272 - val_accuracy: 0.8504 - val_loss: 0.3142\n",
            "Epoch 2/50\n",
            "\u001b[1m2137/2137\u001b[0m \u001b[32m━━━━━━━━━━━━━━━━━━━━\u001b[0m\u001b[37m\u001b[0m \u001b[1m2s\u001b[0m 1ms/step - accuracy: 0.8572 - loss: 0.3083 - val_accuracy: 0.8517 - val_loss: 0.3134\n",
            "Epoch 3/50\n",
            "\u001b[1m2137/2137\u001b[0m \u001b[32m━━━━━━━━━━━━━━━━━━━━\u001b[0m\u001b[37m\u001b[0m \u001b[1m2s\u001b[0m 1ms/step - accuracy: 0.8587 - loss: 0.3045 - val_accuracy: 0.8556 - val_loss: 0.3107\n",
            "Epoch 4/50\n",
            "\u001b[1m2137/2137\u001b[0m \u001b[32m━━━━━━━━━━━━━━━━━━━━\u001b[0m\u001b[37m\u001b[0m \u001b[1m3s\u001b[0m 1ms/step - accuracy: 0.8592 - loss: 0.3015 - val_accuracy: 0.8511 - val_loss: 0.3154\n",
            "Epoch 5/50\n",
            "\u001b[1m2137/2137\u001b[0m \u001b[32m━━━━━━━━━━━━━━━━━━━━\u001b[0m\u001b[37m\u001b[0m \u001b[1m2s\u001b[0m 1ms/step - accuracy: 0.8608 - loss: 0.2994 - val_accuracy: 0.8538 - val_loss: 0.3103\n",
            "Epoch 6/50\n",
            "\u001b[1m2137/2137\u001b[0m \u001b[32m━━━━━━━━━━━━━━━━━━━━\u001b[0m\u001b[37m\u001b[0m \u001b[1m2s\u001b[0m 1ms/step - accuracy: 0.8596 - loss: 0.2970 - val_accuracy: 0.8534 - val_loss: 0.3115\n",
            "Epoch 7/50\n",
            "\u001b[1m2137/2137\u001b[0m \u001b[32m━━━━━━━━━━━━━━━━━━━━\u001b[0m\u001b[37m\u001b[0m \u001b[1m2s\u001b[0m 1ms/step - accuracy: 0.8623 - loss: 0.2960 - val_accuracy: 0.8552 - val_loss: 0.3087\n",
            "Epoch 8/50\n",
            "\u001b[1m2137/2137\u001b[0m \u001b[32m━━━━━━━━━━━━━━━━━━━━\u001b[0m\u001b[37m\u001b[0m \u001b[1m2s\u001b[0m 1ms/step - accuracy: 0.8635 - loss: 0.2937 - val_accuracy: 0.8560 - val_loss: 0.3111\n",
            "Epoch 9/50\n",
            "\u001b[1m2137/2137\u001b[0m \u001b[32m━━━━━━━━━━━━━━━━━━━━\u001b[0m\u001b[37m\u001b[0m \u001b[1m2s\u001b[0m 1ms/step - accuracy: 0.8646 - loss: 0.2919 - val_accuracy: 0.8538 - val_loss: 0.3117\n",
            "Epoch 10/50\n",
            "\u001b[1m2137/2137\u001b[0m \u001b[32m━━━━━━━━━━━━━━━━━━━━\u001b[0m\u001b[37m\u001b[0m \u001b[1m2s\u001b[0m 1ms/step - accuracy: 0.8646 - loss: 0.2906 - val_accuracy: 0.8532 - val_loss: 0.3177\n",
            "Epoch 11/50\n",
            "\u001b[1m2137/2137\u001b[0m \u001b[32m━━━━━━━━━━━━━━━━━━━━\u001b[0m\u001b[37m\u001b[0m \u001b[1m2s\u001b[0m 1ms/step - accuracy: 0.8648 - loss: 0.2891 - val_accuracy: 0.8533 - val_loss: 0.3123\n",
            "Epoch 12/50\n",
            "\u001b[1m2137/2137\u001b[0m \u001b[32m━━━━━━━━━━━━━━━━━━━━\u001b[0m\u001b[37m\u001b[0m \u001b[1m2s\u001b[0m 985us/step - accuracy: 0.8678 - loss: 0.2881 - val_accuracy: 0.8545 - val_loss: 0.3136\n",
            "Epoch 13/50\n",
            "\u001b[1m2137/2137\u001b[0m \u001b[32m━━━━━━━━━━━━━━━━━━━━\u001b[0m\u001b[37m\u001b[0m \u001b[1m2s\u001b[0m 985us/step - accuracy: 0.8667 - loss: 0.2863 - val_accuracy: 0.8536 - val_loss: 0.3158\n",
            "Epoch 14/50\n",
            "\u001b[1m2137/2137\u001b[0m \u001b[32m━━━━━━━━━━━━━━━━━━━━\u001b[0m\u001b[37m\u001b[0m \u001b[1m2s\u001b[0m 992us/step - accuracy: 0.8666 - loss: 0.2854 - val_accuracy: 0.8504 - val_loss: 0.3181\n",
            "Epoch 15/50\n",
            "\u001b[1m2137/2137\u001b[0m \u001b[32m━━━━━━━━━━━━━━━━━━━━\u001b[0m\u001b[37m\u001b[0m \u001b[1m2s\u001b[0m 1ms/step - accuracy: 0.8683 - loss: 0.2840 - val_accuracy: 0.8540 - val_loss: 0.3142\n",
            "Epoch 16/50\n",
            "\u001b[1m2137/2137\u001b[0m \u001b[32m━━━━━━━━━━━━━━━━━━━━\u001b[0m\u001b[37m\u001b[0m \u001b[1m2s\u001b[0m 984us/step - accuracy: 0.8700 - loss: 0.2829 - val_accuracy: 0.8525 - val_loss: 0.3180\n",
            "Epoch 17/50\n",
            "\u001b[1m2137/2137\u001b[0m \u001b[32m━━━━━━━━━━━━━━━━━━━━\u001b[0m\u001b[37m\u001b[0m \u001b[1m2s\u001b[0m 1ms/step - accuracy: 0.8697 - loss: 0.2816 - val_accuracy: 0.8538 - val_loss: 0.3175\n",
            "Epoch 18/50\n",
            "\u001b[1m2137/2137\u001b[0m \u001b[32m━━━━━━━━━━━━━━━━━━━━\u001b[0m\u001b[37m\u001b[0m \u001b[1m2s\u001b[0m 1ms/step - accuracy: 0.8701 - loss: 0.2805 - val_accuracy: 0.8528 - val_loss: 0.3194\n",
            "Epoch 19/50\n",
            "\u001b[1m2137/2137\u001b[0m \u001b[32m━━━━━━━━━━━━━━━━━━━━\u001b[0m\u001b[37m\u001b[0m \u001b[1m2s\u001b[0m 993us/step - accuracy: 0.8704 - loss: 0.2791 - val_accuracy: 0.8551 - val_loss: 0.3171\n",
            "Epoch 20/50\n",
            "\u001b[1m2137/2137\u001b[0m \u001b[32m━━━━━━━━━━━━━━━━━━━━\u001b[0m\u001b[37m\u001b[0m \u001b[1m2s\u001b[0m 969us/step - accuracy: 0.8710 - loss: 0.2779 - val_accuracy: 0.8537 - val_loss: 0.3181\n",
            "Epoch 21/50\n",
            "\u001b[1m2137/2137\u001b[0m \u001b[32m━━━━━━━━━━━━━━━━━━━━\u001b[0m\u001b[37m\u001b[0m \u001b[1m2s\u001b[0m 976us/step - accuracy: 0.8719 - loss: 0.2768 - val_accuracy: 0.8541 - val_loss: 0.3205\n",
            "Epoch 22/50\n",
            "\u001b[1m2137/2137\u001b[0m \u001b[32m━━━━━━━━━━━━━━━━━━━━\u001b[0m\u001b[37m\u001b[0m \u001b[1m2s\u001b[0m 995us/step - accuracy: 0.8723 - loss: 0.2763 - val_accuracy: 0.8521 - val_loss: 0.3225\n",
            "Epoch 23/50\n",
            "\u001b[1m2137/2137\u001b[0m \u001b[32m━━━━━━━━━━━━━━━━━━━━\u001b[0m\u001b[37m\u001b[0m \u001b[1m2s\u001b[0m 988us/step - accuracy: 0.8743 - loss: 0.2745 - val_accuracy: 0.8532 - val_loss: 0.3224\n",
            "Epoch 24/50\n",
            "\u001b[1m2137/2137\u001b[0m \u001b[32m━━━━━━━━━━━━━━━━━━━━\u001b[0m\u001b[37m\u001b[0m \u001b[1m2s\u001b[0m 1ms/step - accuracy: 0.8728 - loss: 0.2740 - val_accuracy: 0.8519 - val_loss: 0.3209\n",
            "Epoch 25/50\n",
            "\u001b[1m2137/2137\u001b[0m \u001b[32m━━━━━━━━━━━━━━━━━━━━\u001b[0m\u001b[37m\u001b[0m \u001b[1m2s\u001b[0m 1ms/step - accuracy: 0.8733 - loss: 0.2725 - val_accuracy: 0.8532 - val_loss: 0.3264\n",
            "Epoch 26/50\n",
            "\u001b[1m2137/2137\u001b[0m \u001b[32m━━━━━━━━━━━━━━━━━━━━\u001b[0m\u001b[37m\u001b[0m \u001b[1m2s\u001b[0m 1ms/step - accuracy: 0.8735 - loss: 0.2717 - val_accuracy: 0.8487 - val_loss: 0.3263\n",
            "Epoch 27/50\n",
            "\u001b[1m2137/2137\u001b[0m \u001b[32m━━━━━━━━━━━━━━━━━━━━\u001b[0m\u001b[37m\u001b[0m \u001b[1m2s\u001b[0m 994us/step - accuracy: 0.8754 - loss: 0.2707 - val_accuracy: 0.8536 - val_loss: 0.3264\n",
            "Epoch 28/50\n",
            "\u001b[1m2137/2137\u001b[0m \u001b[32m━━━━━━━━━━━━━━━━━━━━\u001b[0m\u001b[37m\u001b[0m \u001b[1m2s\u001b[0m 1ms/step - accuracy: 0.8756 - loss: 0.2698 - val_accuracy: 0.8521 - val_loss: 0.3238\n",
            "Epoch 29/50\n",
            "\u001b[1m2137/2137\u001b[0m \u001b[32m━━━━━━━━━━━━━━━━━━━━\u001b[0m\u001b[37m\u001b[0m \u001b[1m2s\u001b[0m 990us/step - accuracy: 0.8749 - loss: 0.2690 - val_accuracy: 0.8513 - val_loss: 0.3271\n",
            "Epoch 30/50\n",
            "\u001b[1m2137/2137\u001b[0m \u001b[32m━━━━━━━━━━━━━━━━━━━━\u001b[0m\u001b[37m\u001b[0m \u001b[1m2s\u001b[0m 998us/step - accuracy: 0.8771 - loss: 0.2678 - val_accuracy: 0.8513 - val_loss: 0.3295\n",
            "Epoch 31/50\n",
            "\u001b[1m2137/2137\u001b[0m \u001b[32m━━━━━━━━━━━━━━━━━━━━\u001b[0m\u001b[37m\u001b[0m \u001b[1m2s\u001b[0m 1ms/step - accuracy: 0.8762 - loss: 0.2666 - val_accuracy: 0.8510 - val_loss: 0.3294\n",
            "Epoch 32/50\n",
            "\u001b[1m2137/2137\u001b[0m \u001b[32m━━━━━━━━━━━━━━━━━━━━\u001b[0m\u001b[37m\u001b[0m \u001b[1m2s\u001b[0m 1ms/step - accuracy: 0.8766 - loss: 0.2663 - val_accuracy: 0.8500 - val_loss: 0.3331\n",
            "Epoch 33/50\n",
            "\u001b[1m2137/2137\u001b[0m \u001b[32m━━━━━━━━━━━━━━━━━━━━\u001b[0m\u001b[37m\u001b[0m \u001b[1m2s\u001b[0m 992us/step - accuracy: 0.8767 - loss: 0.2654 - val_accuracy: 0.8513 - val_loss: 0.3333\n",
            "Epoch 34/50\n",
            "\u001b[1m2137/2137\u001b[0m \u001b[32m━━━━━━━━━━━━━━━━━━━━\u001b[0m\u001b[37m\u001b[0m \u001b[1m2s\u001b[0m 1ms/step - accuracy: 0.8774 - loss: 0.2642 - val_accuracy: 0.8513 - val_loss: 0.3370\n",
            "Epoch 35/50\n",
            "\u001b[1m2137/2137\u001b[0m \u001b[32m━━━━━━━━━━━━━━━━━━━━\u001b[0m\u001b[37m\u001b[0m \u001b[1m2s\u001b[0m 1ms/step - accuracy: 0.8772 - loss: 0.2636 - val_accuracy: 0.8474 - val_loss: 0.3385\n",
            "Epoch 36/50\n",
            "\u001b[1m2137/2137\u001b[0m \u001b[32m━━━━━━━━━━━━━━━━━━━━\u001b[0m\u001b[37m\u001b[0m \u001b[1m2s\u001b[0m 992us/step - accuracy: 0.8781 - loss: 0.2628 - val_accuracy: 0.8506 - val_loss: 0.3360\n",
            "Epoch 37/50\n",
            "\u001b[1m2137/2137\u001b[0m \u001b[32m━━━━━━━━━━━━━━━━━━━━\u001b[0m\u001b[37m\u001b[0m \u001b[1m2s\u001b[0m 992us/step - accuracy: 0.8774 - loss: 0.2619 - val_accuracy: 0.8499 - val_loss: 0.3358\n",
            "Epoch 38/50\n",
            "\u001b[1m2137/2137\u001b[0m \u001b[32m━━━━━━━━━━━━━━━━━━━━\u001b[0m\u001b[37m\u001b[0m \u001b[1m2s\u001b[0m 1ms/step - accuracy: 0.8775 - loss: 0.2612 - val_accuracy: 0.8463 - val_loss: 0.3378\n",
            "Epoch 39/50\n",
            "\u001b[1m2137/2137\u001b[0m \u001b[32m━━━━━━━━━━━━━━━━━━━━\u001b[0m\u001b[37m\u001b[0m \u001b[1m2s\u001b[0m 973us/step - accuracy: 0.8790 - loss: 0.2605 - val_accuracy: 0.8498 - val_loss: 0.3377\n",
            "Epoch 40/50\n",
            "\u001b[1m2137/2137\u001b[0m \u001b[32m━━━━━━━━━━━━━━━━━━━━\u001b[0m\u001b[37m\u001b[0m \u001b[1m2s\u001b[0m 977us/step - accuracy: 0.8793 - loss: 0.2597 - val_accuracy: 0.8485 - val_loss: 0.3384\n",
            "Epoch 41/50\n",
            "\u001b[1m2137/2137\u001b[0m \u001b[32m━━━━━━━━━━━━━━━━━━━━\u001b[0m\u001b[37m\u001b[0m \u001b[1m2s\u001b[0m 987us/step - accuracy: 0.8795 - loss: 0.2587 - val_accuracy: 0.8476 - val_loss: 0.3408\n",
            "Epoch 42/50\n",
            "\u001b[1m2137/2137\u001b[0m \u001b[32m━━━━━━━━━━━━━━━━━━━━\u001b[0m\u001b[37m\u001b[0m \u001b[1m2s\u001b[0m 992us/step - accuracy: 0.8795 - loss: 0.2583 - val_accuracy: 0.8470 - val_loss: 0.3428\n",
            "Epoch 43/50\n",
            "\u001b[1m2137/2137\u001b[0m \u001b[32m━━━━━━━━━━━━━━━━━━━━\u001b[0m\u001b[37m\u001b[0m \u001b[1m2s\u001b[0m 989us/step - accuracy: 0.8802 - loss: 0.2574 - val_accuracy: 0.8503 - val_loss: 0.3473\n",
            "Epoch 44/50\n",
            "\u001b[1m2137/2137\u001b[0m \u001b[32m━━━━━━━━━━━━━━━━━━━━\u001b[0m\u001b[37m\u001b[0m \u001b[1m2s\u001b[0m 1ms/step - accuracy: 0.8797 - loss: 0.2573 - val_accuracy: 0.8459 - val_loss: 0.3438\n",
            "Epoch 45/50\n",
            "\u001b[1m2137/2137\u001b[0m \u001b[32m━━━━━━━━━━━━━━━━━━━━\u001b[0m\u001b[37m\u001b[0m \u001b[1m3s\u001b[0m 1ms/step - accuracy: 0.8798 - loss: 0.2560 - val_accuracy: 0.8439 - val_loss: 0.3470\n",
            "Epoch 46/50\n",
            "\u001b[1m2137/2137\u001b[0m \u001b[32m━━━━━━━━━━━━━━━━━━━━\u001b[0m\u001b[37m\u001b[0m \u001b[1m2s\u001b[0m 1ms/step - accuracy: 0.8805 - loss: 0.2562 - val_accuracy: 0.8458 - val_loss: 0.3509\n",
            "Epoch 47/50\n",
            "\u001b[1m2137/2137\u001b[0m \u001b[32m━━━━━━━━━━━━━━━━━━━━\u001b[0m\u001b[37m\u001b[0m \u001b[1m2s\u001b[0m 1ms/step - accuracy: 0.8804 - loss: 0.2556 - val_accuracy: 0.8476 - val_loss: 0.3471\n",
            "Epoch 48/50\n",
            "\u001b[1m2137/2137\u001b[0m \u001b[32m━━━━━━━━━━━━━━━━━━━━\u001b[0m\u001b[37m\u001b[0m \u001b[1m2s\u001b[0m 1ms/step - accuracy: 0.8802 - loss: 0.2548 - val_accuracy: 0.8473 - val_loss: 0.3517\n",
            "Epoch 49/50\n",
            "\u001b[1m2137/2137\u001b[0m \u001b[32m━━━━━━━━━━━━━━━━━━━━\u001b[0m\u001b[37m\u001b[0m \u001b[1m2s\u001b[0m 1ms/step - accuracy: 0.8816 - loss: 0.2546 - val_accuracy: 0.8450 - val_loss: 0.3484\n",
            "Epoch 50/50\n",
            "\u001b[1m2137/2137\u001b[0m \u001b[32m━━━━━━━━━━━━━━━━━━━━\u001b[0m\u001b[37m\u001b[0m \u001b[1m2s\u001b[0m 1ms/step - accuracy: 0.8819 - loss: 0.2536 - val_accuracy: 0.8469 - val_loss: 0.3511\n"
          ]
        }
      ],
      "source": [
        "from tensorflow.keras.optimizers import Adam\n",
        "\n",
        "model_adam = Sequential()\n",
        "\n",
        "model_adam.add(Dense(64, activation='relu', input_shape=(108,)))\n",
        "\n",
        "model_adam.add(Dense(1, activation='sigmoid'))\n",
        "\n",
        "optimizer = Adam(learning_rate=0.001)\n",
        "\n",
        "model_adam.compile(optimizer=optimizer, loss='binary_crossentropy', metrics=['accuracy'])\n",
        "\n",
        "history = model_adam.fit(X_train, y_train, validation_data=(X_val, y_val), epochs=50, batch_size=16)"
      ]
    },
    {
      "cell_type": "markdown",
      "metadata": {},
      "source": [
        "> **Plain SGD (no momentum) :**\n",
        "Training accuracy improves slowly.                        \n",
        "> **SGD with momentum :**\n",
        "Training accuracy improves faster than plain SGD                 \n",
        "> **Adam :**\n",
        "Training accuracy usually rises very quickly"
      ]
    },
    {
      "cell_type": "markdown",
      "metadata": {},
      "source": [
        "> **Fastest convergence :**  Adam        \n",
        "> **Best generalization :** SGD with momentum if tuned correctly **OR** plain SGD in general"
      ]
    },
    {
      "cell_type": "markdown",
      "metadata": {},
      "source": [
        "> becasue Adam uses **Momentum** and **Adaptive learning rates** which helps to Faster convergence."
      ]
    },
    {
      "cell_type": "markdown",
      "metadata": {
        "id": "Wv6ZlRldHC09"
      },
      "source": [
        "## Part 2: Batch Size\n",
        "1. Train the same model with different batch sizes (e.g., 1, 32, 128, 1024).\n",
        "2. Compare:\n",
        "   - Training speed\n",
        "   - Validation accuracy\n",
        "   - Test accuracy\n",
        "   - Generalization ability\n",
        "3. Which batch size leads to the **noisiest gradient updates**?\n",
        "4. Which batch size generalizes better and why?"
      ]
    },
    {
      "cell_type": "markdown",
      "metadata": {},
      "source": [
        "> **batch size = 1**"
      ]
    },
    {
      "cell_type": "code",
      "execution_count": 8,
      "metadata": {
        "id": "uBodrpTrHLMy"
      },
      "outputs": [
        {
          "name": "stdout",
          "output_type": "stream",
          "text": [
            "Epoch 1/50\n"
          ]
        },
        {
          "name": "stderr",
          "output_type": "stream",
          "text": [
            "C:\\Users\\User\\AppData\\Roaming\\Python\\Python313\\site-packages\\keras\\src\\layers\\core\\dense.py:92: UserWarning: Do not pass an `input_shape`/`input_dim` argument to a layer. When using Sequential models, prefer using an `Input(shape)` object as the first layer in the model instead.\n",
            "  super().__init__(activity_regularizer=activity_regularizer, **kwargs)\n"
          ]
        },
        {
          "name": "stdout",
          "output_type": "stream",
          "text": [
            "\u001b[1m 3802/34187\u001b[0m \u001b[32m━━\u001b[0m\u001b[37m━━━━━━━━━━━━━━━━━━\u001b[0m \u001b[1m27s\u001b[0m 915us/step - accuracy: 0.8159 - loss: 0.3875"
          ]
        },
        {
          "ename": "KeyboardInterrupt",
          "evalue": "",
          "output_type": "error",
          "traceback": [
            "\u001b[31m---------------------------------------------------------------------------\u001b[39m",
            "\u001b[31mKeyboardInterrupt\u001b[39m                         Traceback (most recent call last)",
            "\u001b[36mCell\u001b[39m\u001b[36m \u001b[39m\u001b[32mIn[8]\u001b[39m\u001b[32m, line 11\u001b[39m\n\u001b[32m      7\u001b[39m optimizer = Adam(learning_rate=\u001b[32m0.001\u001b[39m)\n\u001b[32m      9\u001b[39m model_adam_1.compile(optimizer=optimizer, loss=\u001b[33m'\u001b[39m\u001b[33mbinary_crossentropy\u001b[39m\u001b[33m'\u001b[39m, metrics=[\u001b[33m'\u001b[39m\u001b[33maccuracy\u001b[39m\u001b[33m'\u001b[39m])\n\u001b[32m---> \u001b[39m\u001b[32m11\u001b[39m history = \u001b[43mmodel_adam_1\u001b[49m\u001b[43m.\u001b[49m\u001b[43mfit\u001b[49m\u001b[43m(\u001b[49m\u001b[43mX_train\u001b[49m\u001b[43m,\u001b[49m\u001b[43m \u001b[49m\u001b[43my_train\u001b[49m\u001b[43m,\u001b[49m\u001b[43m \u001b[49m\u001b[43mvalidation_data\u001b[49m\u001b[43m=\u001b[49m\u001b[43m(\u001b[49m\u001b[43mX_val\u001b[49m\u001b[43m,\u001b[49m\u001b[43m \u001b[49m\u001b[43my_val\u001b[49m\u001b[43m)\u001b[49m\u001b[43m,\u001b[49m\u001b[43m \u001b[49m\u001b[43mepochs\u001b[49m\u001b[43m=\u001b[49m\u001b[32;43m50\u001b[39;49m\u001b[43m,\u001b[49m\u001b[43m \u001b[49m\u001b[43mbatch_size\u001b[49m\u001b[43m=\u001b[49m\u001b[32;43m1\u001b[39;49m\u001b[43m)\u001b[49m\n",
            "\u001b[36mFile \u001b[39m\u001b[32m~\\AppData\\Roaming\\Python\\Python313\\site-packages\\keras\\src\\utils\\traceback_utils.py:117\u001b[39m, in \u001b[36mfilter_traceback.<locals>.error_handler\u001b[39m\u001b[34m(*args, **kwargs)\u001b[39m\n\u001b[32m    115\u001b[39m filtered_tb = \u001b[38;5;28;01mNone\u001b[39;00m\n\u001b[32m    116\u001b[39m \u001b[38;5;28;01mtry\u001b[39;00m:\n\u001b[32m--> \u001b[39m\u001b[32m117\u001b[39m     \u001b[38;5;28;01mreturn\u001b[39;00m \u001b[43mfn\u001b[49m\u001b[43m(\u001b[49m\u001b[43m*\u001b[49m\u001b[43margs\u001b[49m\u001b[43m,\u001b[49m\u001b[43m \u001b[49m\u001b[43m*\u001b[49m\u001b[43m*\u001b[49m\u001b[43mkwargs\u001b[49m\u001b[43m)\u001b[49m\n\u001b[32m    118\u001b[39m \u001b[38;5;28;01mexcept\u001b[39;00m \u001b[38;5;167;01mException\u001b[39;00m \u001b[38;5;28;01mas\u001b[39;00m e:\n\u001b[32m    119\u001b[39m     filtered_tb = _process_traceback_frames(e.__traceback__)\n",
            "\u001b[36mFile \u001b[39m\u001b[32m~\\AppData\\Roaming\\Python\\Python313\\site-packages\\keras\\src\\backend\\tensorflow\\trainer.py:377\u001b[39m, in \u001b[36mTensorFlowTrainer.fit\u001b[39m\u001b[34m(self, x, y, batch_size, epochs, verbose, callbacks, validation_split, validation_data, shuffle, class_weight, sample_weight, initial_epoch, steps_per_epoch, validation_steps, validation_batch_size, validation_freq)\u001b[39m\n\u001b[32m    375\u001b[39m \u001b[38;5;28;01mfor\u001b[39;00m begin_step, end_step, iterator \u001b[38;5;129;01min\u001b[39;00m epoch_iterator:\n\u001b[32m    376\u001b[39m     callbacks.on_train_batch_begin(begin_step)\n\u001b[32m--> \u001b[39m\u001b[32m377\u001b[39m     logs = \u001b[38;5;28;43mself\u001b[39;49m\u001b[43m.\u001b[49m\u001b[43mtrain_function\u001b[49m\u001b[43m(\u001b[49m\u001b[43miterator\u001b[49m\u001b[43m)\u001b[49m\n\u001b[32m    378\u001b[39m     callbacks.on_train_batch_end(end_step, logs)\n\u001b[32m    379\u001b[39m     \u001b[38;5;28;01mif\u001b[39;00m \u001b[38;5;28mself\u001b[39m.stop_training:\n",
            "\u001b[36mFile \u001b[39m\u001b[32m~\\AppData\\Roaming\\Python\\Python313\\site-packages\\keras\\src\\backend\\tensorflow\\trainer.py:220\u001b[39m, in \u001b[36mTensorFlowTrainer._make_function.<locals>.function\u001b[39m\u001b[34m(iterator)\u001b[39m\n\u001b[32m    216\u001b[39m \u001b[38;5;28;01mdef\u001b[39;00m\u001b[38;5;250m \u001b[39m\u001b[34mfunction\u001b[39m(iterator):\n\u001b[32m    217\u001b[39m     \u001b[38;5;28;01mif\u001b[39;00m \u001b[38;5;28misinstance\u001b[39m(\n\u001b[32m    218\u001b[39m         iterator, (tf.data.Iterator, tf.distribute.DistributedIterator)\n\u001b[32m    219\u001b[39m     ):\n\u001b[32m--> \u001b[39m\u001b[32m220\u001b[39m         opt_outputs = \u001b[43mmulti_step_on_iterator\u001b[49m\u001b[43m(\u001b[49m\u001b[43miterator\u001b[49m\u001b[43m)\u001b[49m\n\u001b[32m    221\u001b[39m         \u001b[38;5;28;01mif\u001b[39;00m \u001b[38;5;129;01mnot\u001b[39;00m opt_outputs.has_value():\n\u001b[32m    222\u001b[39m             \u001b[38;5;28;01mraise\u001b[39;00m \u001b[38;5;167;01mStopIteration\u001b[39;00m\n",
            "\u001b[36mFile \u001b[39m\u001b[32m~\\AppData\\Roaming\\Python\\Python313\\site-packages\\tensorflow\\python\\util\\traceback_utils.py:150\u001b[39m, in \u001b[36mfilter_traceback.<locals>.error_handler\u001b[39m\u001b[34m(*args, **kwargs)\u001b[39m\n\u001b[32m    148\u001b[39m filtered_tb = \u001b[38;5;28;01mNone\u001b[39;00m\n\u001b[32m    149\u001b[39m \u001b[38;5;28;01mtry\u001b[39;00m:\n\u001b[32m--> \u001b[39m\u001b[32m150\u001b[39m   \u001b[38;5;28;01mreturn\u001b[39;00m \u001b[43mfn\u001b[49m\u001b[43m(\u001b[49m\u001b[43m*\u001b[49m\u001b[43margs\u001b[49m\u001b[43m,\u001b[49m\u001b[43m \u001b[49m\u001b[43m*\u001b[49m\u001b[43m*\u001b[49m\u001b[43mkwargs\u001b[49m\u001b[43m)\u001b[49m\n\u001b[32m    151\u001b[39m \u001b[38;5;28;01mexcept\u001b[39;00m \u001b[38;5;167;01mException\u001b[39;00m \u001b[38;5;28;01mas\u001b[39;00m e:\n\u001b[32m    152\u001b[39m   filtered_tb = _process_traceback_frames(e.__traceback__)\n",
            "\u001b[36mFile \u001b[39m\u001b[32m~\\AppData\\Roaming\\Python\\Python313\\site-packages\\tensorflow\\python\\eager\\polymorphic_function\\polymorphic_function.py:833\u001b[39m, in \u001b[36mFunction.__call__\u001b[39m\u001b[34m(self, *args, **kwds)\u001b[39m\n\u001b[32m    830\u001b[39m compiler = \u001b[33m\"\u001b[39m\u001b[33mxla\u001b[39m\u001b[33m\"\u001b[39m \u001b[38;5;28;01mif\u001b[39;00m \u001b[38;5;28mself\u001b[39m._jit_compile \u001b[38;5;28;01melse\u001b[39;00m \u001b[33m\"\u001b[39m\u001b[33mnonXla\u001b[39m\u001b[33m\"\u001b[39m\n\u001b[32m    832\u001b[39m \u001b[38;5;28;01mwith\u001b[39;00m OptionalXlaContext(\u001b[38;5;28mself\u001b[39m._jit_compile):\n\u001b[32m--> \u001b[39m\u001b[32m833\u001b[39m   result = \u001b[38;5;28;43mself\u001b[39;49m\u001b[43m.\u001b[49m\u001b[43m_call\u001b[49m\u001b[43m(\u001b[49m\u001b[43m*\u001b[49m\u001b[43margs\u001b[49m\u001b[43m,\u001b[49m\u001b[43m \u001b[49m\u001b[43m*\u001b[49m\u001b[43m*\u001b[49m\u001b[43mkwds\u001b[49m\u001b[43m)\u001b[49m\n\u001b[32m    835\u001b[39m new_tracing_count = \u001b[38;5;28mself\u001b[39m.experimental_get_tracing_count()\n\u001b[32m    836\u001b[39m without_tracing = (tracing_count == new_tracing_count)\n",
            "\u001b[36mFile \u001b[39m\u001b[32m~\\AppData\\Roaming\\Python\\Python313\\site-packages\\tensorflow\\python\\eager\\polymorphic_function\\polymorphic_function.py:878\u001b[39m, in \u001b[36mFunction._call\u001b[39m\u001b[34m(self, *args, **kwds)\u001b[39m\n\u001b[32m    875\u001b[39m \u001b[38;5;28mself\u001b[39m._lock.release()\n\u001b[32m    876\u001b[39m \u001b[38;5;66;03m# In this case we have not created variables on the first call. So we can\u001b[39;00m\n\u001b[32m    877\u001b[39m \u001b[38;5;66;03m# run the first trace but we should fail if variables are created.\u001b[39;00m\n\u001b[32m--> \u001b[39m\u001b[32m878\u001b[39m results = \u001b[43mtracing_compilation\u001b[49m\u001b[43m.\u001b[49m\u001b[43mcall_function\u001b[49m\u001b[43m(\u001b[49m\n\u001b[32m    879\u001b[39m \u001b[43m    \u001b[49m\u001b[43margs\u001b[49m\u001b[43m,\u001b[49m\u001b[43m \u001b[49m\u001b[43mkwds\u001b[49m\u001b[43m,\u001b[49m\u001b[43m \u001b[49m\u001b[38;5;28;43mself\u001b[39;49m\u001b[43m.\u001b[49m\u001b[43m_variable_creation_config\u001b[49m\n\u001b[32m    880\u001b[39m \u001b[43m\u001b[49m\u001b[43m)\u001b[49m\n\u001b[32m    881\u001b[39m \u001b[38;5;28;01mif\u001b[39;00m \u001b[38;5;28mself\u001b[39m._created_variables:\n\u001b[32m    882\u001b[39m   \u001b[38;5;28;01mraise\u001b[39;00m \u001b[38;5;167;01mValueError\u001b[39;00m(\u001b[33m\"\u001b[39m\u001b[33mCreating variables on a non-first call to a function\u001b[39m\u001b[33m\"\u001b[39m\n\u001b[32m    883\u001b[39m                    \u001b[33m\"\u001b[39m\u001b[33m decorated with tf.function.\u001b[39m\u001b[33m\"\u001b[39m)\n",
            "\u001b[36mFile \u001b[39m\u001b[32m~\\AppData\\Roaming\\Python\\Python313\\site-packages\\tensorflow\\python\\eager\\polymorphic_function\\tracing_compilation.py:139\u001b[39m, in \u001b[36mcall_function\u001b[39m\u001b[34m(args, kwargs, tracing_options)\u001b[39m\n\u001b[32m    137\u001b[39m bound_args = function.function_type.bind(*args, **kwargs)\n\u001b[32m    138\u001b[39m flat_inputs = function.function_type.unpack_inputs(bound_args)\n\u001b[32m--> \u001b[39m\u001b[32m139\u001b[39m \u001b[38;5;28;01mreturn\u001b[39;00m \u001b[43mfunction\u001b[49m\u001b[43m.\u001b[49m\u001b[43m_call_flat\u001b[49m\u001b[43m(\u001b[49m\u001b[43m  \u001b[49m\u001b[38;5;66;43;03m# pylint: disable=protected-access\u001b[39;49;00m\n\u001b[32m    140\u001b[39m \u001b[43m    \u001b[49m\u001b[43mflat_inputs\u001b[49m\u001b[43m,\u001b[49m\u001b[43m \u001b[49m\u001b[43mcaptured_inputs\u001b[49m\u001b[43m=\u001b[49m\u001b[43mfunction\u001b[49m\u001b[43m.\u001b[49m\u001b[43mcaptured_inputs\u001b[49m\n\u001b[32m    141\u001b[39m \u001b[43m\u001b[49m\u001b[43m)\u001b[49m\n",
            "\u001b[36mFile \u001b[39m\u001b[32m~\\AppData\\Roaming\\Python\\Python313\\site-packages\\tensorflow\\python\\eager\\polymorphic_function\\concrete_function.py:1322\u001b[39m, in \u001b[36mConcreteFunction._call_flat\u001b[39m\u001b[34m(self, tensor_inputs, captured_inputs)\u001b[39m\n\u001b[32m   1318\u001b[39m possible_gradient_type = gradients_util.PossibleTapeGradientTypes(args)\n\u001b[32m   1319\u001b[39m \u001b[38;5;28;01mif\u001b[39;00m (possible_gradient_type == gradients_util.POSSIBLE_GRADIENT_TYPES_NONE\n\u001b[32m   1320\u001b[39m     \u001b[38;5;129;01mand\u001b[39;00m executing_eagerly):\n\u001b[32m   1321\u001b[39m   \u001b[38;5;66;03m# No tape is watching; skip to running the function.\u001b[39;00m\n\u001b[32m-> \u001b[39m\u001b[32m1322\u001b[39m   \u001b[38;5;28;01mreturn\u001b[39;00m \u001b[38;5;28;43mself\u001b[39;49m\u001b[43m.\u001b[49m\u001b[43m_inference_function\u001b[49m\u001b[43m.\u001b[49m\u001b[43mcall_preflattened\u001b[49m\u001b[43m(\u001b[49m\u001b[43margs\u001b[49m\u001b[43m)\u001b[49m\n\u001b[32m   1323\u001b[39m forward_backward = \u001b[38;5;28mself\u001b[39m._select_forward_and_backward_functions(\n\u001b[32m   1324\u001b[39m     args,\n\u001b[32m   1325\u001b[39m     possible_gradient_type,\n\u001b[32m   1326\u001b[39m     executing_eagerly)\n\u001b[32m   1327\u001b[39m forward_function, args_with_tangents = forward_backward.forward()\n",
            "\u001b[36mFile \u001b[39m\u001b[32m~\\AppData\\Roaming\\Python\\Python313\\site-packages\\tensorflow\\python\\eager\\polymorphic_function\\atomic_function.py:216\u001b[39m, in \u001b[36mAtomicFunction.call_preflattened\u001b[39m\u001b[34m(self, args)\u001b[39m\n\u001b[32m    214\u001b[39m \u001b[38;5;28;01mdef\u001b[39;00m\u001b[38;5;250m \u001b[39m\u001b[34mcall_preflattened\u001b[39m(\u001b[38;5;28mself\u001b[39m, args: Sequence[core.Tensor]) -> Any:\n\u001b[32m    215\u001b[39m \u001b[38;5;250m  \u001b[39m\u001b[33;03m\"\"\"Calls with flattened tensor inputs and returns the structured output.\"\"\"\u001b[39;00m\n\u001b[32m--> \u001b[39m\u001b[32m216\u001b[39m   flat_outputs = \u001b[38;5;28;43mself\u001b[39;49m\u001b[43m.\u001b[49m\u001b[43mcall_flat\u001b[49m\u001b[43m(\u001b[49m\u001b[43m*\u001b[49m\u001b[43margs\u001b[49m\u001b[43m)\u001b[49m\n\u001b[32m    217\u001b[39m   \u001b[38;5;28;01mreturn\u001b[39;00m \u001b[38;5;28mself\u001b[39m.function_type.pack_output(flat_outputs)\n",
            "\u001b[36mFile \u001b[39m\u001b[32m~\\AppData\\Roaming\\Python\\Python313\\site-packages\\tensorflow\\python\\eager\\polymorphic_function\\atomic_function.py:251\u001b[39m, in \u001b[36mAtomicFunction.call_flat\u001b[39m\u001b[34m(self, *args)\u001b[39m\n\u001b[32m    249\u001b[39m \u001b[38;5;28;01mwith\u001b[39;00m record.stop_recording():\n\u001b[32m    250\u001b[39m   \u001b[38;5;28;01mif\u001b[39;00m \u001b[38;5;28mself\u001b[39m._bound_context.executing_eagerly():\n\u001b[32m--> \u001b[39m\u001b[32m251\u001b[39m     outputs = \u001b[38;5;28;43mself\u001b[39;49m\u001b[43m.\u001b[49m\u001b[43m_bound_context\u001b[49m\u001b[43m.\u001b[49m\u001b[43mcall_function\u001b[49m\u001b[43m(\u001b[49m\n\u001b[32m    252\u001b[39m \u001b[43m        \u001b[49m\u001b[38;5;28;43mself\u001b[39;49m\u001b[43m.\u001b[49m\u001b[43mname\u001b[49m\u001b[43m,\u001b[49m\n\u001b[32m    253\u001b[39m \u001b[43m        \u001b[49m\u001b[38;5;28;43mlist\u001b[39;49m\u001b[43m(\u001b[49m\u001b[43margs\u001b[49m\u001b[43m)\u001b[49m\u001b[43m,\u001b[49m\n\u001b[32m    254\u001b[39m \u001b[43m        \u001b[49m\u001b[38;5;28;43mlen\u001b[39;49m\u001b[43m(\u001b[49m\u001b[38;5;28;43mself\u001b[39;49m\u001b[43m.\u001b[49m\u001b[43mfunction_type\u001b[49m\u001b[43m.\u001b[49m\u001b[43mflat_outputs\u001b[49m\u001b[43m)\u001b[49m\u001b[43m,\u001b[49m\n\u001b[32m    255\u001b[39m \u001b[43m    \u001b[49m\u001b[43m)\u001b[49m\n\u001b[32m    256\u001b[39m   \u001b[38;5;28;01melse\u001b[39;00m:\n\u001b[32m    257\u001b[39m     outputs = make_call_op_in_graph(\n\u001b[32m    258\u001b[39m         \u001b[38;5;28mself\u001b[39m,\n\u001b[32m    259\u001b[39m         \u001b[38;5;28mlist\u001b[39m(args),\n\u001b[32m    260\u001b[39m         \u001b[38;5;28mself\u001b[39m._bound_context.function_call_options.as_attrs(),\n\u001b[32m    261\u001b[39m     )\n",
            "\u001b[36mFile \u001b[39m\u001b[32m~\\AppData\\Roaming\\Python\\Python313\\site-packages\\tensorflow\\python\\eager\\context.py:1688\u001b[39m, in \u001b[36mContext.call_function\u001b[39m\u001b[34m(self, name, tensor_inputs, num_outputs)\u001b[39m\n\u001b[32m   1686\u001b[39m cancellation_context = cancellation.context()\n\u001b[32m   1687\u001b[39m \u001b[38;5;28;01mif\u001b[39;00m cancellation_context \u001b[38;5;129;01mis\u001b[39;00m \u001b[38;5;28;01mNone\u001b[39;00m:\n\u001b[32m-> \u001b[39m\u001b[32m1688\u001b[39m   outputs = \u001b[43mexecute\u001b[49m\u001b[43m.\u001b[49m\u001b[43mexecute\u001b[49m\u001b[43m(\u001b[49m\n\u001b[32m   1689\u001b[39m \u001b[43m      \u001b[49m\u001b[43mname\u001b[49m\u001b[43m.\u001b[49m\u001b[43mdecode\u001b[49m\u001b[43m(\u001b[49m\u001b[33;43m\"\u001b[39;49m\u001b[33;43mutf-8\u001b[39;49m\u001b[33;43m\"\u001b[39;49m\u001b[43m)\u001b[49m\u001b[43m,\u001b[49m\n\u001b[32m   1690\u001b[39m \u001b[43m      \u001b[49m\u001b[43mnum_outputs\u001b[49m\u001b[43m=\u001b[49m\u001b[43mnum_outputs\u001b[49m\u001b[43m,\u001b[49m\n\u001b[32m   1691\u001b[39m \u001b[43m      \u001b[49m\u001b[43minputs\u001b[49m\u001b[43m=\u001b[49m\u001b[43mtensor_inputs\u001b[49m\u001b[43m,\u001b[49m\n\u001b[32m   1692\u001b[39m \u001b[43m      \u001b[49m\u001b[43mattrs\u001b[49m\u001b[43m=\u001b[49m\u001b[43mattrs\u001b[49m\u001b[43m,\u001b[49m\n\u001b[32m   1693\u001b[39m \u001b[43m      \u001b[49m\u001b[43mctx\u001b[49m\u001b[43m=\u001b[49m\u001b[38;5;28;43mself\u001b[39;49m\u001b[43m,\u001b[49m\n\u001b[32m   1694\u001b[39m \u001b[43m  \u001b[49m\u001b[43m)\u001b[49m\n\u001b[32m   1695\u001b[39m \u001b[38;5;28;01melse\u001b[39;00m:\n\u001b[32m   1696\u001b[39m   outputs = execute.execute_with_cancellation(\n\u001b[32m   1697\u001b[39m       name.decode(\u001b[33m\"\u001b[39m\u001b[33mutf-8\u001b[39m\u001b[33m\"\u001b[39m),\n\u001b[32m   1698\u001b[39m       num_outputs=num_outputs,\n\u001b[32m   (...)\u001b[39m\u001b[32m   1702\u001b[39m       cancellation_manager=cancellation_context,\n\u001b[32m   1703\u001b[39m   )\n",
            "\u001b[36mFile \u001b[39m\u001b[32m~\\AppData\\Roaming\\Python\\Python313\\site-packages\\tensorflow\\python\\eager\\execute.py:53\u001b[39m, in \u001b[36mquick_execute\u001b[39m\u001b[34m(op_name, num_outputs, inputs, attrs, ctx, name)\u001b[39m\n\u001b[32m     51\u001b[39m \u001b[38;5;28;01mtry\u001b[39;00m:\n\u001b[32m     52\u001b[39m   ctx.ensure_initialized()\n\u001b[32m---> \u001b[39m\u001b[32m53\u001b[39m   tensors = \u001b[43mpywrap_tfe\u001b[49m\u001b[43m.\u001b[49m\u001b[43mTFE_Py_Execute\u001b[49m\u001b[43m(\u001b[49m\u001b[43mctx\u001b[49m\u001b[43m.\u001b[49m\u001b[43m_handle\u001b[49m\u001b[43m,\u001b[49m\u001b[43m \u001b[49m\u001b[43mdevice_name\u001b[49m\u001b[43m,\u001b[49m\u001b[43m \u001b[49m\u001b[43mop_name\u001b[49m\u001b[43m,\u001b[49m\n\u001b[32m     54\u001b[39m \u001b[43m                                      \u001b[49m\u001b[43minputs\u001b[49m\u001b[43m,\u001b[49m\u001b[43m \u001b[49m\u001b[43mattrs\u001b[49m\u001b[43m,\u001b[49m\u001b[43m \u001b[49m\u001b[43mnum_outputs\u001b[49m\u001b[43m)\u001b[49m\n\u001b[32m     55\u001b[39m \u001b[38;5;28;01mexcept\u001b[39;00m core._NotOkStatusException \u001b[38;5;28;01mas\u001b[39;00m e:\n\u001b[32m     56\u001b[39m   \u001b[38;5;28;01mif\u001b[39;00m name \u001b[38;5;129;01mis\u001b[39;00m \u001b[38;5;129;01mnot\u001b[39;00m \u001b[38;5;28;01mNone\u001b[39;00m:\n",
            "\u001b[31mKeyboardInterrupt\u001b[39m: "
          ]
        }
      ],
      "source": [
        "model_adam_1 = Sequential()\n",
        "\n",
        "model_adam_1.add(Dense(64, activation='relu', input_shape=(108,)))\n",
        "\n",
        "model_adam_1.add(Dense(1, activation='sigmoid'))\n",
        "\n",
        "optimizer = Adam(learning_rate=0.001)\n",
        "\n",
        "model_adam_1.compile(optimizer=optimizer, loss='binary_crossentropy', metrics=['accuracy'])\n",
        "\n",
        "history = model_adam_1.fit(X_train, y_train, validation_data=(X_val, y_val), epochs=50, batch_size=1)"
      ]
    },
    {
      "cell_type": "markdown",
      "metadata": {},
      "source": [
        "> **batch size = 32**"
      ]
    },
    {
      "cell_type": "code",
      "execution_count": null,
      "metadata": {},
      "outputs": [],
      "source": [
        "model_adam_32 = Sequential()\n",
        "\n",
        "model_adam_32.add(Dense(64, activation='relu', input_shape=(108,)))\n",
        "\n",
        "model_adam_32.add(Dense(1, activation='sigmoid'))\n",
        "\n",
        "optimizer = Adam(learning_rate=0.001)\n",
        "\n",
        "model_adam_32.compile(optimizer=optimizer, loss='binary_crossentropy', metrics=['accuracy'])\n",
        "\n",
        "history = model_adam_32.fit(X_train, y_train, validation_data=(X_val, y_val), epochs=50, batch_size=32)"
      ]
    },
    {
      "cell_type": "markdown",
      "metadata": {},
      "source": [
        "> **batch size = 128**"
      ]
    },
    {
      "cell_type": "code",
      "execution_count": null,
      "metadata": {},
      "outputs": [],
      "source": [
        "model_adam_128 = Sequential()\n",
        "\n",
        "model_adam_128.add(Dense(64, activation='relu', input_shape=(108,)))\n",
        "\n",
        "model_adam_128.add(Dense(1, activation='sigmoid'))\n",
        "\n",
        "optimizer = Adam(learning_rate=0.001)\n",
        "\n",
        "model_adam_128.compile(optimizer=optimizer, loss='binary_crossentropy', metrics=['accuracy'])\n",
        "\n",
        "history = model_adam_128.fit(X_train, y_train, validation_data=(X_val, y_val), epochs=20, batch_size=128)"
      ]
    },
    {
      "cell_type": "markdown",
      "metadata": {},
      "source": [
        "> **batch size = 1024**"
      ]
    },
    {
      "cell_type": "code",
      "execution_count": null,
      "metadata": {},
      "outputs": [],
      "source": [
        "model_adam_1024 = Sequential()\n",
        "\n",
        "model_adam_1024.add(Dense(64, activation='relu', input_shape=(108,)))\n",
        "\n",
        "model_adam_1024.add(Dense(1, activation='sigmoid'))\n",
        "\n",
        "optimizer = Adam(learning_rate=0.001)\n",
        "\n",
        "model_adam_1024.compile(optimizer=optimizer, loss='binary_crossentropy', metrics=['accuracy'])\n",
        "\n",
        "history = model_adam_1024.fit(X_train, y_train, validation_data=(X_val, y_val), epochs=10, batch_size=1024)"
      ]
    },
    {
      "cell_type": "markdown",
      "metadata": {},
      "source": [
        "> batch size of 1 gives the noisiest gradient updates            \n",
        "> batch size of 32  is the generally beter because it's smooth enough to train efficiently and noisy enough for generalization."
      ]
    },
    {
      "cell_type": "markdown",
      "metadata": {
        "id": "9NDO_bUjHDz3"
      },
      "source": [
        "\n",
        "## Part 3: Overfitting and Regularization\n",
        "1. Train a large neural network (many parameters) on the dataset.\n",
        "2. Observe training vs. validation accuracy.  \n",
        "   - Do you see signs of overfitting?\n",
        "3. Apply regularization techniques:\n",
        "   - **L2 regularization**\n",
        "   - **Dropout**\n",
        "4. Compare the validation results before and after regularization.\n",
        "5. Which regularization method was more effective in reducing overfitting? Why?\n",
        "\n",
        "---\n"
      ]
    },
    {
      "cell_type": "code",
      "execution_count": 9,
      "metadata": {
        "id": "d74t2UPVHKdO"
      },
      "outputs": [
        {
          "name": "stdout",
          "output_type": "stream",
          "text": [
            "Epoch 1/50\n"
          ]
        },
        {
          "name": "stderr",
          "output_type": "stream",
          "text": [
            "C:\\Users\\User\\AppData\\Roaming\\Python\\Python313\\site-packages\\keras\\src\\layers\\core\\dense.py:92: UserWarning: Do not pass an `input_shape`/`input_dim` argument to a layer. When using Sequential models, prefer using an `Input(shape)` object as the first layer in the model instead.\n",
            "  super().__init__(activity_regularizer=activity_regularizer, **kwargs)\n"
          ]
        },
        {
          "name": "stdout",
          "output_type": "stream",
          "text": [
            "\u001b[1m1069/1069\u001b[0m \u001b[32m━━━━━━━━━━━━━━━━━━━━\u001b[0m\u001b[37m\u001b[0m \u001b[1m4s\u001b[0m 3ms/step - accuracy: 0.8513 - loss: 0.3224 - val_accuracy: 0.8517 - val_loss: 0.3146\n",
            "Epoch 2/50\n",
            "\u001b[1m1069/1069\u001b[0m \u001b[32m━━━━━━━━━━━━━━━━━━━━\u001b[0m\u001b[37m\u001b[0m \u001b[1m3s\u001b[0m 3ms/step - accuracy: 0.8580 - loss: 0.3084 - val_accuracy: 0.8485 - val_loss: 0.3160\n",
            "Epoch 3/50\n",
            "\u001b[1m1069/1069\u001b[0m \u001b[32m━━━━━━━━━━━━━━━━━━━━\u001b[0m\u001b[37m\u001b[0m \u001b[1m3s\u001b[0m 3ms/step - accuracy: 0.8608 - loss: 0.3031 - val_accuracy: 0.8504 - val_loss: 0.3103\n",
            "Epoch 4/50\n",
            "\u001b[1m1069/1069\u001b[0m \u001b[32m━━━━━━━━━━━━━━━━━━━━\u001b[0m\u001b[37m\u001b[0m \u001b[1m3s\u001b[0m 3ms/step - accuracy: 0.8623 - loss: 0.2953 - val_accuracy: 0.8548 - val_loss: 0.3103\n",
            "Epoch 5/50\n",
            "\u001b[1m1069/1069\u001b[0m \u001b[32m━━━━━━━━━━━━━━━━━━━━\u001b[0m\u001b[37m\u001b[0m \u001b[1m3s\u001b[0m 3ms/step - accuracy: 0.8648 - loss: 0.2893 - val_accuracy: 0.8503 - val_loss: 0.3188\n",
            "Epoch 6/50\n",
            "\u001b[1m1069/1069\u001b[0m \u001b[32m━━━━━━━━━━━━━━━━━━━━\u001b[0m\u001b[37m\u001b[0m \u001b[1m3s\u001b[0m 3ms/step - accuracy: 0.8687 - loss: 0.2820 - val_accuracy: 0.8567 - val_loss: 0.3181\n",
            "Epoch 7/50\n",
            "\u001b[1m1069/1069\u001b[0m \u001b[32m━━━━━━━━━━━━━━━━━━━━\u001b[0m\u001b[37m\u001b[0m \u001b[1m4s\u001b[0m 3ms/step - accuracy: 0.8697 - loss: 0.2741 - val_accuracy: 0.8566 - val_loss: 0.3239\n",
            "Epoch 8/50\n",
            "\u001b[1m1069/1069\u001b[0m \u001b[32m━━━━━━━━━━━━━━━━━━━━\u001b[0m\u001b[37m\u001b[0m \u001b[1m3s\u001b[0m 3ms/step - accuracy: 0.8741 - loss: 0.2665 - val_accuracy: 0.8549 - val_loss: 0.3387\n",
            "Epoch 9/50\n",
            "\u001b[1m1069/1069\u001b[0m \u001b[32m━━━━━━━━━━━━━━━━━━━━\u001b[0m\u001b[37m\u001b[0m \u001b[1m3s\u001b[0m 2ms/step - accuracy: 0.8779 - loss: 0.2603 - val_accuracy: 0.8491 - val_loss: 0.3456\n",
            "Epoch 10/50\n",
            "\u001b[1m1069/1069\u001b[0m \u001b[32m━━━━━━━━━━━━━━━━━━━━\u001b[0m\u001b[37m\u001b[0m \u001b[1m3s\u001b[0m 2ms/step - accuracy: 0.8811 - loss: 0.2525 - val_accuracy: 0.8436 - val_loss: 0.3698\n",
            "Epoch 11/50\n",
            "\u001b[1m1069/1069\u001b[0m \u001b[32m━━━━━━━━━━━━━━━━━━━━\u001b[0m\u001b[37m\u001b[0m \u001b[1m3s\u001b[0m 3ms/step - accuracy: 0.8842 - loss: 0.2434 - val_accuracy: 0.8448 - val_loss: 0.4051\n",
            "Epoch 12/50\n",
            "\u001b[1m1069/1069\u001b[0m \u001b[32m━━━━━━━━━━━━━━━━━━━━\u001b[0m\u001b[37m\u001b[0m \u001b[1m3s\u001b[0m 2ms/step - accuracy: 0.8874 - loss: 0.2367 - val_accuracy: 0.8421 - val_loss: 0.3852\n",
            "Epoch 13/50\n",
            "\u001b[1m1069/1069\u001b[0m \u001b[32m━━━━━━━━━━━━━━━━━━━━\u001b[0m\u001b[37m\u001b[0m \u001b[1m3s\u001b[0m 3ms/step - accuracy: 0.8918 - loss: 0.2295 - val_accuracy: 0.8431 - val_loss: 0.4431\n",
            "Epoch 14/50\n",
            "\u001b[1m1069/1069\u001b[0m \u001b[32m━━━━━━━━━━━━━━━━━━━━\u001b[0m\u001b[37m\u001b[0m \u001b[1m3s\u001b[0m 3ms/step - accuracy: 0.8934 - loss: 0.2218 - val_accuracy: 0.8431 - val_loss: 0.4699\n",
            "Epoch 15/50\n",
            "\u001b[1m1069/1069\u001b[0m \u001b[32m━━━━━━━━━━━━━━━━━━━━\u001b[0m\u001b[37m\u001b[0m \u001b[1m2s\u001b[0m 2ms/step - accuracy: 0.8976 - loss: 0.2163 - val_accuracy: 0.8390 - val_loss: 0.4795\n",
            "Epoch 16/50\n",
            "\u001b[1m1069/1069\u001b[0m \u001b[32m━━━━━━━━━━━━━━━━━━━━\u001b[0m\u001b[37m\u001b[0m \u001b[1m3s\u001b[0m 2ms/step - accuracy: 0.9003 - loss: 0.2088 - val_accuracy: 0.8403 - val_loss: 0.5027\n",
            "Epoch 17/50\n",
            "\u001b[1m1069/1069\u001b[0m \u001b[32m━━━━━━━━━━━━━━━━━━━━\u001b[0m\u001b[37m\u001b[0m \u001b[1m3s\u001b[0m 2ms/step - accuracy: 0.9027 - loss: 0.2035 - val_accuracy: 0.8407 - val_loss: 0.5755\n",
            "Epoch 18/50\n",
            "\u001b[1m1069/1069\u001b[0m \u001b[32m━━━━━━━━━━━━━━━━━━━━\u001b[0m\u001b[37m\u001b[0m \u001b[1m2s\u001b[0m 2ms/step - accuracy: 0.9036 - loss: 0.1998 - val_accuracy: 0.8444 - val_loss: 0.5627\n",
            "Epoch 19/50\n",
            "\u001b[1m1069/1069\u001b[0m \u001b[32m━━━━━━━━━━━━━━━━━━━━\u001b[0m\u001b[37m\u001b[0m \u001b[1m2s\u001b[0m 2ms/step - accuracy: 0.9058 - loss: 0.1995 - val_accuracy: 0.8386 - val_loss: 0.5603\n",
            "Epoch 20/50\n",
            "\u001b[1m1069/1069\u001b[0m \u001b[32m━━━━━━━━━━━━━━━━━━━━\u001b[0m\u001b[37m\u001b[0m \u001b[1m2s\u001b[0m 2ms/step - accuracy: 0.9091 - loss: 0.1876 - val_accuracy: 0.8358 - val_loss: 0.5899\n",
            "Epoch 21/50\n",
            "\u001b[1m1069/1069\u001b[0m \u001b[32m━━━━━━━━━━━━━━━━━━━━\u001b[0m\u001b[37m\u001b[0m \u001b[1m2s\u001b[0m 2ms/step - accuracy: 0.9127 - loss: 0.1840 - val_accuracy: 0.8345 - val_loss: 0.6815\n",
            "Epoch 22/50\n",
            "\u001b[1m1069/1069\u001b[0m \u001b[32m━━━━━━━━━━━━━━━━━━━━\u001b[0m\u001b[37m\u001b[0m \u001b[1m2s\u001b[0m 2ms/step - accuracy: 0.9139 - loss: 0.1798 - val_accuracy: 0.8338 - val_loss: 0.6830\n",
            "Epoch 23/50\n",
            "\u001b[1m1069/1069\u001b[0m \u001b[32m━━━━━━━━━━━━━━━━━━━━\u001b[0m\u001b[37m\u001b[0m \u001b[1m2s\u001b[0m 2ms/step - accuracy: 0.9144 - loss: 0.1802 - val_accuracy: 0.8338 - val_loss: 0.6454\n",
            "Epoch 24/50\n",
            "\u001b[1m1069/1069\u001b[0m \u001b[32m━━━━━━━━━━━━━━━━━━━━\u001b[0m\u001b[37m\u001b[0m \u001b[1m3s\u001b[0m 3ms/step - accuracy: 0.9165 - loss: 0.1712 - val_accuracy: 0.8397 - val_loss: 0.7222\n",
            "Epoch 25/50\n",
            "\u001b[1m1069/1069\u001b[0m \u001b[32m━━━━━━━━━━━━━━━━━━━━\u001b[0m\u001b[37m\u001b[0m \u001b[1m3s\u001b[0m 3ms/step - accuracy: 0.9185 - loss: 0.1663 - val_accuracy: 0.8346 - val_loss: 0.7515\n",
            "Epoch 26/50\n",
            "\u001b[1m1069/1069\u001b[0m \u001b[32m━━━━━━━━━━━━━━━━━━━━\u001b[0m\u001b[37m\u001b[0m \u001b[1m3s\u001b[0m 2ms/step - accuracy: 0.9184 - loss: 0.1712 - val_accuracy: 0.8345 - val_loss: 0.7130\n",
            "Epoch 27/50\n",
            "\u001b[1m1069/1069\u001b[0m \u001b[32m━━━━━━━━━━━━━━━━━━━━\u001b[0m\u001b[37m\u001b[0m \u001b[1m3s\u001b[0m 2ms/step - accuracy: 0.9210 - loss: 0.1629 - val_accuracy: 0.8270 - val_loss: 0.7700\n",
            "Epoch 28/50\n",
            "\u001b[1m1069/1069\u001b[0m \u001b[32m━━━━━━━━━━━━━━━━━━━━\u001b[0m\u001b[37m\u001b[0m \u001b[1m3s\u001b[0m 3ms/step - accuracy: 0.9227 - loss: 0.1599 - val_accuracy: 0.8244 - val_loss: 0.7790\n",
            "Epoch 29/50\n",
            "\u001b[1m1069/1069\u001b[0m \u001b[32m━━━━━━━━━━━━━━━━━━━━\u001b[0m\u001b[37m\u001b[0m \u001b[1m3s\u001b[0m 3ms/step - accuracy: 0.9239 - loss: 0.1557 - val_accuracy: 0.8361 - val_loss: 0.8370\n",
            "Epoch 30/50\n",
            "\u001b[1m1069/1069\u001b[0m \u001b[32m━━━━━━━━━━━━━━━━━━━━\u001b[0m\u001b[37m\u001b[0m \u001b[1m3s\u001b[0m 3ms/step - accuracy: 0.9236 - loss: 0.1557 - val_accuracy: 0.8294 - val_loss: 0.8742\n",
            "Epoch 31/50\n",
            "\u001b[1m1069/1069\u001b[0m \u001b[32m━━━━━━━━━━━━━━━━━━━━\u001b[0m\u001b[37m\u001b[0m \u001b[1m3s\u001b[0m 3ms/step - accuracy: 0.9251 - loss: 0.1545 - val_accuracy: 0.8349 - val_loss: 0.9908\n",
            "Epoch 32/50\n",
            "\u001b[1m1069/1069\u001b[0m \u001b[32m━━━━━━━━━━━━━━━━━━━━\u001b[0m\u001b[37m\u001b[0m \u001b[1m3s\u001b[0m 2ms/step - accuracy: 0.9252 - loss: 0.1560 - val_accuracy: 0.8323 - val_loss: 0.8967\n",
            "Epoch 33/50\n",
            "\u001b[1m1069/1069\u001b[0m \u001b[32m━━━━━━━━━━━━━━━━━━━━\u001b[0m\u001b[37m\u001b[0m \u001b[1m3s\u001b[0m 2ms/step - accuracy: 0.9280 - loss: 0.1460 - val_accuracy: 0.8302 - val_loss: 0.9342\n",
            "Epoch 34/50\n",
            "\u001b[1m1069/1069\u001b[0m \u001b[32m━━━━━━━━━━━━━━━━━━━━\u001b[0m\u001b[37m\u001b[0m \u001b[1m3s\u001b[0m 2ms/step - accuracy: 0.9316 - loss: 0.1439 - val_accuracy: 0.8264 - val_loss: 0.9449\n",
            "Epoch 35/50\n",
            "\u001b[1m1069/1069\u001b[0m \u001b[32m━━━━━━━━━━━━━━━━━━━━\u001b[0m\u001b[37m\u001b[0m \u001b[1m3s\u001b[0m 2ms/step - accuracy: 0.9315 - loss: 0.1408 - val_accuracy: 0.8249 - val_loss: 0.9977\n",
            "Epoch 36/50\n",
            "\u001b[1m1069/1069\u001b[0m \u001b[32m━━━━━━━━━━━━━━━━━━━━\u001b[0m\u001b[37m\u001b[0m \u001b[1m3s\u001b[0m 2ms/step - accuracy: 0.9315 - loss: 0.1413 - val_accuracy: 0.8267 - val_loss: 1.0742\n",
            "Epoch 37/50\n",
            "\u001b[1m1069/1069\u001b[0m \u001b[32m━━━━━━━━━━━━━━━━━━━━\u001b[0m\u001b[37m\u001b[0m \u001b[1m3s\u001b[0m 2ms/step - accuracy: 0.9301 - loss: 0.1448 - val_accuracy: 0.8328 - val_loss: 1.0434\n",
            "Epoch 38/50\n",
            "\u001b[1m1069/1069\u001b[0m \u001b[32m━━━━━━━━━━━━━━━━━━━━\u001b[0m\u001b[37m\u001b[0m \u001b[1m3s\u001b[0m 2ms/step - accuracy: 0.9341 - loss: 0.1397 - val_accuracy: 0.8308 - val_loss: 0.9690\n",
            "Epoch 39/50\n",
            "\u001b[1m1069/1069\u001b[0m \u001b[32m━━━━━━━━━━━━━━━━━━━━\u001b[0m\u001b[37m\u001b[0m \u001b[1m3s\u001b[0m 2ms/step - accuracy: 0.9355 - loss: 0.1350 - val_accuracy: 0.8286 - val_loss: 1.0743\n",
            "Epoch 40/50\n",
            "\u001b[1m1069/1069\u001b[0m \u001b[32m━━━━━━━━━━━━━━━━━━━━\u001b[0m\u001b[37m\u001b[0m \u001b[1m3s\u001b[0m 3ms/step - accuracy: 0.9335 - loss: 0.1397 - val_accuracy: 0.8218 - val_loss: 0.9936\n",
            "Epoch 41/50\n",
            "\u001b[1m1069/1069\u001b[0m \u001b[32m━━━━━━━━━━━━━━━━━━━━\u001b[0m\u001b[37m\u001b[0m \u001b[1m3s\u001b[0m 2ms/step - accuracy: 0.9362 - loss: 0.1331 - val_accuracy: 0.8252 - val_loss: 1.0303\n",
            "Epoch 42/50\n",
            "\u001b[1m1069/1069\u001b[0m \u001b[32m━━━━━━━━━━━━━━━━━━━━\u001b[0m\u001b[37m\u001b[0m \u001b[1m3s\u001b[0m 2ms/step - accuracy: 0.9384 - loss: 0.1270 - val_accuracy: 0.8302 - val_loss: 1.1172\n",
            "Epoch 43/50\n",
            "\u001b[1m1069/1069\u001b[0m \u001b[32m━━━━━━━━━━━━━━━━━━━━\u001b[0m\u001b[37m\u001b[0m \u001b[1m3s\u001b[0m 2ms/step - accuracy: 0.9386 - loss: 0.1346 - val_accuracy: 0.8253 - val_loss: 1.1825\n",
            "Epoch 44/50\n",
            "\u001b[1m1069/1069\u001b[0m \u001b[32m━━━━━━━━━━━━━━━━━━━━\u001b[0m\u001b[37m\u001b[0m \u001b[1m3s\u001b[0m 2ms/step - accuracy: 0.9389 - loss: 0.1254 - val_accuracy: 0.8214 - val_loss: 1.1669\n",
            "Epoch 45/50\n",
            "\u001b[1m1069/1069\u001b[0m \u001b[32m━━━━━━━━━━━━━━━━━━━━\u001b[0m\u001b[37m\u001b[0m \u001b[1m3s\u001b[0m 2ms/step - accuracy: 0.9389 - loss: 0.1266 - val_accuracy: 0.8238 - val_loss: 1.1605\n",
            "Epoch 46/50\n",
            "\u001b[1m1069/1069\u001b[0m \u001b[32m━━━━━━━━━━━━━━━━━━━━\u001b[0m\u001b[37m\u001b[0m \u001b[1m3s\u001b[0m 2ms/step - accuracy: 0.9409 - loss: 0.1253 - val_accuracy: 0.8286 - val_loss: 1.2317\n",
            "Epoch 47/50\n",
            "\u001b[1m1069/1069\u001b[0m \u001b[32m━━━━━━━━━━━━━━━━━━━━\u001b[0m\u001b[37m\u001b[0m \u001b[1m3s\u001b[0m 2ms/step - accuracy: 0.9427 - loss: 0.1204 - val_accuracy: 0.8301 - val_loss: 1.3396\n",
            "Epoch 48/50\n",
            "\u001b[1m1069/1069\u001b[0m \u001b[32m━━━━━━━━━━━━━━━━━━━━\u001b[0m\u001b[37m\u001b[0m \u001b[1m3s\u001b[0m 2ms/step - accuracy: 0.9401 - loss: 0.1269 - val_accuracy: 0.8249 - val_loss: 1.2062\n",
            "Epoch 49/50\n",
            "\u001b[1m1069/1069\u001b[0m \u001b[32m━━━━━━━━━━━━━━━━━━━━\u001b[0m\u001b[37m\u001b[0m \u001b[1m3s\u001b[0m 2ms/step - accuracy: 0.9430 - loss: 0.1167 - val_accuracy: 0.8245 - val_loss: 1.2724\n",
            "Epoch 50/50\n",
            "\u001b[1m1069/1069\u001b[0m \u001b[32m━━━━━━━━━━━━━━━━━━━━\u001b[0m\u001b[37m\u001b[0m \u001b[1m3s\u001b[0m 2ms/step - accuracy: 0.9447 - loss: 0.1150 - val_accuracy: 0.8296 - val_loss: 1.2563\n"
          ]
        }
      ],
      "source": [
        "model_large = Sequential()\n",
        "model_large.add(Dense(512, activation='relu', input_shape=(X_train.shape[1],)))\n",
        "model_large.add(Dense(256, activation='relu'))\n",
        "model_large.add(Dense(128, activation='relu'))\n",
        "model_large.add(Dense(1, activation='sigmoid'))\n",
        "\n",
        "model_large.compile(optimizer=Adam(0.001),\n",
        "                    loss='binary_crossentropy',\n",
        "                    metrics=['accuracy'])\n",
        "\n",
        "history_large = model_large.fit(X_train, y_train,\n",
        "                                validation_data=(X_val, y_val),\n",
        "                                epochs=50,\n",
        "                                batch_size=32)"
      ]
    },
    {
      "cell_type": "code",
      "execution_count": null,
      "metadata": {},
      "outputs": [
        {
          "data": {
            "image/png": "[encoded data removed]",
            "text/plain": [
              "<Figure size 640x480 with 1 Axes>"
            ]
          },
          "metadata": {},
          "output_type": "display_data"
        }
      ],
      "source": [
        "import matplotlib.pyplot as plt\n",
        "\n",
        "plt.plot(history_large.history['accuracy'], label='Train')\n",
        "plt.plot(history_large.history['val_accuracy'], label='Validation')\n",
        "plt.xlabel('Epochs')\n",
        "plt.ylabel('Accuracy')\n",
        "plt.legend()\n",
        "plt.title('Accuracy Without Regularization');\n"
      ]
    },
    {
      "cell_type": "markdown",
      "metadata": {},
      "source": [
        "> this is a clear sign of over fitting as validation is declineing and train is increasing"
      ]
    },
    {
      "cell_type": "code",
      "execution_count": null,
      "metadata": {},
      "outputs": [
        {
          "name": "stdout",
          "output_type": "stream",
          "text": [
            "Epoch 1/50\n"
          ]
        },
        {
          "name": "stderr",
          "output_type": "stream",
          "text": [
            "C:\\Users\\User\\AppData\\Roaming\\Python\\Python313\\site-packages\\keras\\src\\layers\\core\\dense.py:92: UserWarning: Do not pass an `input_shape`/`input_dim` argument to a layer. When using Sequential models, prefer using an `Input(shape)` object as the first layer in the model instead.\n",
            "  super().__init__(activity_regularizer=activity_regularizer, **kwargs)\n"
          ]
        },
        {
          "name": "stdout",
          "output_type": "stream",
          "text": [
            "\u001b[1m1069/1069\u001b[0m \u001b[32m━━━━━━━━━━━━━━━━━━━━\u001b[0m\u001b[37m\u001b[0m \u001b[1m5s\u001b[0m 4ms/step - accuracy: 0.8507 - loss: 0.4269 - val_accuracy: 0.8504 - val_loss: 0.3450\n",
            "Epoch 2/50\n",
            "\u001b[1m1069/1069\u001b[0m \u001b[32m━━━━━━━━━━━━━━━━━━━━\u001b[0m\u001b[37m\u001b[0m \u001b[1m4s\u001b[0m 4ms/step - accuracy: 0.8558 - loss: 0.3359 - val_accuracy: 0.8510 - val_loss: 0.3335\n",
            "Epoch 3/50\n",
            "\u001b[1m1069/1069\u001b[0m \u001b[32m━━━━━━━━━━━━━━━━━━━━\u001b[0m\u001b[37m\u001b[0m \u001b[1m3s\u001b[0m 3ms/step - accuracy: 0.8541 - loss: 0.3300 - val_accuracy: 0.8525 - val_loss: 0.3292\n",
            "Epoch 4/50\n",
            "\u001b[1m1069/1069\u001b[0m \u001b[32m━━━━━━━━━━━━━━━━━━━━\u001b[0m\u001b[37m\u001b[0m \u001b[1m3s\u001b[0m 3ms/step - accuracy: 0.8560 - loss: 0.3255 - val_accuracy: 0.8455 - val_loss: 0.3387\n",
            "Epoch 5/50\n",
            "\u001b[1m1069/1069\u001b[0m \u001b[32m━━━━━━━━━━━━━━━━━━━━\u001b[0m\u001b[37m\u001b[0m \u001b[1m3s\u001b[0m 3ms/step - accuracy: 0.8577 - loss: 0.3225 - val_accuracy: 0.8523 - val_loss: 0.3266\n",
            "Epoch 6/50\n",
            "\u001b[1m1069/1069\u001b[0m \u001b[32m━━━━━━━━━━━━━━━━━━━━\u001b[0m\u001b[37m\u001b[0m \u001b[1m3s\u001b[0m 3ms/step - accuracy: 0.8576 - loss: 0.3205 - val_accuracy: 0.8485 - val_loss: 0.3270\n",
            "Epoch 7/50\n",
            "\u001b[1m1069/1069\u001b[0m \u001b[32m━━━━━━━━━━━━━━━━━━━━\u001b[0m\u001b[37m\u001b[0m \u001b[1m3s\u001b[0m 3ms/step - accuracy: 0.8590 - loss: 0.3183 - val_accuracy: 0.8540 - val_loss: 0.3205\n",
            "Epoch 8/50\n",
            "\u001b[1m1069/1069\u001b[0m \u001b[32m━━━━━━━━━━━━━━━━━━━━\u001b[0m\u001b[37m\u001b[0m \u001b[1m3s\u001b[0m 3ms/step - accuracy: 0.8579 - loss: 0.3173 - val_accuracy: 0.8515 - val_loss: 0.3206\n",
            "Epoch 9/50\n",
            "\u001b[1m1069/1069\u001b[0m \u001b[32m━━━━━━━━━━━━━━━━━━━━\u001b[0m\u001b[37m\u001b[0m \u001b[1m3s\u001b[0m 3ms/step - accuracy: 0.8590 - loss: 0.3162 - val_accuracy: 0.8537 - val_loss: 0.3196\n",
            "Epoch 10/50\n",
            "\u001b[1m1069/1069\u001b[0m \u001b[32m━━━━━━━━━━━━━━━━━━━━\u001b[0m\u001b[37m\u001b[0m \u001b[1m3s\u001b[0m 3ms/step - accuracy: 0.8609 - loss: 0.3145 - val_accuracy: 0.8560 - val_loss: 0.3196\n",
            "Epoch 11/50\n",
            "\u001b[1m1069/1069\u001b[0m \u001b[32m━━━━━━━━━━━━━━━━━━━━\u001b[0m\u001b[37m\u001b[0m \u001b[1m3s\u001b[0m 3ms/step - accuracy: 0.8591 - loss: 0.3135 - val_accuracy: 0.8540 - val_loss: 0.3175\n",
            "Epoch 12/50\n",
            "\u001b[1m1069/1069\u001b[0m \u001b[32m━━━━━━━━━━━━━━━━━━━━\u001b[0m\u001b[37m\u001b[0m \u001b[1m3s\u001b[0m 3ms/step - accuracy: 0.8597 - loss: 0.3133 - val_accuracy: 0.8577 - val_loss: 0.3180\n",
            "Epoch 13/50\n",
            "\u001b[1m1069/1069\u001b[0m \u001b[32m━━━━━━━━━━━━━━━━━━━━\u001b[0m\u001b[37m\u001b[0m \u001b[1m3s\u001b[0m 3ms/step - accuracy: 0.8608 - loss: 0.3129 - val_accuracy: 0.8488 - val_loss: 0.3270\n",
            "Epoch 14/50\n",
            "\u001b[1m1069/1069\u001b[0m \u001b[32m━━━━━━━━━━━━━━━━━━━━\u001b[0m\u001b[37m\u001b[0m \u001b[1m3s\u001b[0m 3ms/step - accuracy: 0.8598 - loss: 0.3132 - val_accuracy: 0.8574 - val_loss: 0.3174\n",
            "Epoch 15/50\n",
            "\u001b[1m1069/1069\u001b[0m \u001b[32m━━━━━━━━━━━━━━━━━━━━\u001b[0m\u001b[37m\u001b[0m \u001b[1m4s\u001b[0m 3ms/step - accuracy: 0.8618 - loss: 0.3123 - val_accuracy: 0.8564 - val_loss: 0.3184\n",
            "Epoch 16/50\n",
            "\u001b[1m1069/1069\u001b[0m \u001b[32m━━━━━━━━━━━━━━━━━━━━\u001b[0m\u001b[37m\u001b[0m \u001b[1m4s\u001b[0m 4ms/step - accuracy: 0.8621 - loss: 0.3114 - val_accuracy: 0.8538 - val_loss: 0.3202\n",
            "Epoch 17/50\n",
            "\u001b[1m1069/1069\u001b[0m \u001b[32m━━━━━━━━━━━━━━━━━━━━\u001b[0m\u001b[37m\u001b[0m \u001b[1m6s\u001b[0m 6ms/step - accuracy: 0.8610 - loss: 0.3111 - val_accuracy: 0.8538 - val_loss: 0.3186\n",
            "Epoch 18/50\n",
            "\u001b[1m1069/1069\u001b[0m \u001b[32m━━━━━━━━━━━━━━━━━━━━\u001b[0m\u001b[37m\u001b[0m \u001b[1m5s\u001b[0m 5ms/step - accuracy: 0.8611 - loss: 0.3110 - val_accuracy: 0.8571 - val_loss: 0.3164\n",
            "Epoch 19/50\n",
            "\u001b[1m1069/1069\u001b[0m \u001b[32m━━━━━━━━━━━━━━━━━━━━\u001b[0m\u001b[37m\u001b[0m \u001b[1m5s\u001b[0m 5ms/step - accuracy: 0.8599 - loss: 0.3103 - val_accuracy: 0.8530 - val_loss: 0.3197\n",
            "Epoch 20/50\n",
            "\u001b[1m1069/1069\u001b[0m \u001b[32m━━━━━━━━━━━━━━━━━━━━\u001b[0m\u001b[37m\u001b[0m \u001b[1m4s\u001b[0m 4ms/step - accuracy: 0.8618 - loss: 0.3100 - val_accuracy: 0.8577 - val_loss: 0.3169\n",
            "Epoch 21/50\n",
            "\u001b[1m1069/1069\u001b[0m \u001b[32m━━━━━━━━━━━━━━━━━━━━\u001b[0m\u001b[37m\u001b[0m \u001b[1m4s\u001b[0m 3ms/step - accuracy: 0.8615 - loss: 0.3099 - val_accuracy: 0.8523 - val_loss: 0.3208\n",
            "Epoch 22/50\n",
            "\u001b[1m1069/1069\u001b[0m \u001b[32m━━━━━━━━━━━━━━━━━━━━\u001b[0m\u001b[37m\u001b[0m \u001b[1m3s\u001b[0m 3ms/step - accuracy: 0.8610 - loss: 0.3093 - val_accuracy: 0.8567 - val_loss: 0.3161\n",
            "Epoch 23/50\n",
            "\u001b[1m1069/1069\u001b[0m \u001b[32m━━━━━━━━━━━━━━━━━━━━\u001b[0m\u001b[37m\u001b[0m \u001b[1m4s\u001b[0m 3ms/step - accuracy: 0.8625 - loss: 0.3093 - val_accuracy: 0.8506 - val_loss: 0.3248\n",
            "Epoch 24/50\n",
            "\u001b[1m1069/1069\u001b[0m \u001b[32m━━━━━━━━━━━━━━━━━━━━\u001b[0m\u001b[37m\u001b[0m \u001b[1m4s\u001b[0m 3ms/step - accuracy: 0.8612 - loss: 0.3086 - val_accuracy: 0.8558 - val_loss: 0.3188\n",
            "Epoch 25/50\n",
            "\u001b[1m1069/1069\u001b[0m \u001b[32m━━━━━━━━━━━━━━━━━━━━\u001b[0m\u001b[37m\u001b[0m \u001b[1m4s\u001b[0m 3ms/step - accuracy: 0.8622 - loss: 0.3091 - val_accuracy: 0.8519 - val_loss: 0.3198\n",
            "Epoch 26/50\n",
            "\u001b[1m1069/1069\u001b[0m \u001b[32m━━━━━━━━━━━━━━━━━━━━\u001b[0m\u001b[37m\u001b[0m \u001b[1m3s\u001b[0m 3ms/step - accuracy: 0.8613 - loss: 0.3090 - val_accuracy: 0.8530 - val_loss: 0.3175\n",
            "Epoch 27/50\n",
            "\u001b[1m1069/1069\u001b[0m \u001b[32m━━━━━━━━━━━━━━━━━━━━\u001b[0m\u001b[37m\u001b[0m \u001b[1m4s\u001b[0m 3ms/step - accuracy: 0.8617 - loss: 0.3088 - val_accuracy: 0.8547 - val_loss: 0.3173\n",
            "Epoch 28/50\n",
            "\u001b[1m1069/1069\u001b[0m \u001b[32m━━━━━━━━━━━━━━━━━━━━\u001b[0m\u001b[37m\u001b[0m \u001b[1m3s\u001b[0m 3ms/step - accuracy: 0.8629 - loss: 0.3080 - val_accuracy: 0.8533 - val_loss: 0.3190\n",
            "Epoch 29/50\n",
            "\u001b[1m1069/1069\u001b[0m \u001b[32m━━━━━━━━━━━━━━━━━━━━\u001b[0m\u001b[37m\u001b[0m \u001b[1m3s\u001b[0m 3ms/step - accuracy: 0.8616 - loss: 0.3080 - val_accuracy: 0.8562 - val_loss: 0.3170\n",
            "Epoch 30/50\n",
            "\u001b[1m1069/1069\u001b[0m \u001b[32m━━━━━━━━━━━━━━━━━━━━\u001b[0m\u001b[37m\u001b[0m \u001b[1m3s\u001b[0m 3ms/step - accuracy: 0.8613 - loss: 0.3080 - val_accuracy: 0.8573 - val_loss: 0.3176\n",
            "Epoch 31/50\n",
            "\u001b[1m1069/1069\u001b[0m \u001b[32m━━━━━━━━━━━━━━━━━━━━\u001b[0m\u001b[37m\u001b[0m \u001b[1m3s\u001b[0m 3ms/step - accuracy: 0.8618 - loss: 0.3080 - val_accuracy: 0.8540 - val_loss: 0.3185\n",
            "Epoch 32/50\n",
            "\u001b[1m1069/1069\u001b[0m \u001b[32m━━━━━━━━━━━━━━━━━━━━\u001b[0m\u001b[37m\u001b[0m \u001b[1m3s\u001b[0m 3ms/step - accuracy: 0.8620 - loss: 0.3080 - val_accuracy: 0.8498 - val_loss: 0.3220\n",
            "Epoch 33/50\n",
            "\u001b[1m1069/1069\u001b[0m \u001b[32m━━━━━━━━━━━━━━━━━━━━\u001b[0m\u001b[37m\u001b[0m \u001b[1m3s\u001b[0m 3ms/step - accuracy: 0.8619 - loss: 0.3076 - val_accuracy: 0.8575 - val_loss: 0.3147\n",
            "Epoch 34/50\n",
            "\u001b[1m1069/1069\u001b[0m \u001b[32m━━━━━━━━━━━━━━━━━━━━\u001b[0m\u001b[37m\u001b[0m \u001b[1m4s\u001b[0m 3ms/step - accuracy: 0.8623 - loss: 0.3073 - val_accuracy: 0.8551 - val_loss: 0.3184\n",
            "Epoch 35/50\n",
            "\u001b[1m1069/1069\u001b[0m \u001b[32m━━━━━━━━━━━━━━━━━━━━\u001b[0m\u001b[37m\u001b[0m \u001b[1m4s\u001b[0m 4ms/step - accuracy: 0.8629 - loss: 0.3075 - val_accuracy: 0.8577 - val_loss: 0.3174\n",
            "Epoch 36/50\n",
            "\u001b[1m1069/1069\u001b[0m \u001b[32m━━━━━━━━━━━━━━━━━━━━\u001b[0m\u001b[37m\u001b[0m \u001b[1m3s\u001b[0m 3ms/step - accuracy: 0.8621 - loss: 0.3071 - val_accuracy: 0.8549 - val_loss: 0.3184\n",
            "Epoch 37/50\n",
            "\u001b[1m1069/1069\u001b[0m \u001b[32m━━━━━━━━━━━━━━━━━━━━\u001b[0m\u001b[37m\u001b[0m \u001b[1m3s\u001b[0m 3ms/step - accuracy: 0.8619 - loss: 0.3072 - val_accuracy: 0.8564 - val_loss: 0.3155\n",
            "Epoch 38/50\n",
            "\u001b[1m1069/1069\u001b[0m \u001b[32m━━━━━━━━━━━━━━━━━━━━\u001b[0m\u001b[37m\u001b[0m \u001b[1m3s\u001b[0m 3ms/step - accuracy: 0.8623 - loss: 0.3071 - val_accuracy: 0.8559 - val_loss: 0.3221\n",
            "Epoch 39/50\n",
            "\u001b[1m1069/1069\u001b[0m \u001b[32m━━━━━━━━━━━━━━━━━━━━\u001b[0m\u001b[37m\u001b[0m \u001b[1m4s\u001b[0m 4ms/step - accuracy: 0.8616 - loss: 0.3078 - val_accuracy: 0.8575 - val_loss: 0.3163\n",
            "Epoch 40/50\n",
            "\u001b[1m1069/1069\u001b[0m \u001b[32m━━━━━━━━━━━━━━━━━━━━\u001b[0m\u001b[37m\u001b[0m \u001b[1m4s\u001b[0m 3ms/step - accuracy: 0.8635 - loss: 0.3070 - val_accuracy: 0.8545 - val_loss: 0.3219\n",
            "Epoch 41/50\n",
            "\u001b[1m1069/1069\u001b[0m \u001b[32m━━━━━━━━━━━━━━━━━━━━\u001b[0m\u001b[37m\u001b[0m \u001b[1m4s\u001b[0m 3ms/step - accuracy: 0.8630 - loss: 0.3071 - val_accuracy: 0.8558 - val_loss: 0.3175\n",
            "Epoch 42/50\n",
            "\u001b[1m1069/1069\u001b[0m \u001b[32m━━━━━━━━━━━━━━━━━━━━\u001b[0m\u001b[37m\u001b[0m \u001b[1m4s\u001b[0m 3ms/step - accuracy: 0.8630 - loss: 0.3066 - val_accuracy: 0.8525 - val_loss: 0.3233\n",
            "Epoch 43/50\n",
            "\u001b[1m1069/1069\u001b[0m \u001b[32m━━━━━━━━━━━━━━━━━━━━\u001b[0m\u001b[37m\u001b[0m \u001b[1m4s\u001b[0m 3ms/step - accuracy: 0.8622 - loss: 0.3064 - val_accuracy: 0.8538 - val_loss: 0.3173\n",
            "Epoch 44/50\n",
            "\u001b[1m1069/1069\u001b[0m \u001b[32m━━━━━━━━━━━━━━━━━━━━\u001b[0m\u001b[37m\u001b[0m \u001b[1m5s\u001b[0m 3ms/step - accuracy: 0.8631 - loss: 0.3066 - val_accuracy: 0.8567 - val_loss: 0.3175\n",
            "Epoch 45/50\n",
            "\u001b[1m1069/1069\u001b[0m \u001b[32m━━━━━━━━━━━━━━━━━━━━\u001b[0m\u001b[37m\u001b[0m \u001b[1m3s\u001b[0m 3ms/step - accuracy: 0.8625 - loss: 0.3071 - val_accuracy: 0.8551 - val_loss: 0.3187\n",
            "Epoch 46/50\n",
            "\u001b[1m1069/1069\u001b[0m \u001b[32m━━━━━━━━━━━━━━━━━━━━\u001b[0m\u001b[37m\u001b[0m \u001b[1m3s\u001b[0m 3ms/step - accuracy: 0.8633 - loss: 0.3062 - val_accuracy: 0.8521 - val_loss: 0.3260\n",
            "Epoch 47/50\n",
            "\u001b[1m1069/1069\u001b[0m \u001b[32m━━━━━━━━━━━━━━━━━━━━\u001b[0m\u001b[37m\u001b[0m \u001b[1m3s\u001b[0m 3ms/step - accuracy: 0.8628 - loss: 0.3061 - val_accuracy: 0.8530 - val_loss: 0.3227\n",
            "Epoch 48/50\n",
            "\u001b[1m1069/1069\u001b[0m \u001b[32m━━━━━━━━━━━━━━━━━━━━\u001b[0m\u001b[37m\u001b[0m \u001b[1m4s\u001b[0m 3ms/step - accuracy: 0.8630 - loss: 0.3063 - val_accuracy: 0.8570 - val_loss: 0.3229\n",
            "Epoch 49/50\n",
            "\u001b[1m1069/1069\u001b[0m \u001b[32m━━━━━━━━━━━━━━━━━━━━\u001b[0m\u001b[37m\u001b[0m \u001b[1m4s\u001b[0m 3ms/step - accuracy: 0.8626 - loss: 0.3061 - val_accuracy: 0.8519 - val_loss: 0.3186\n",
            "Epoch 50/50\n",
            "\u001b[1m1069/1069\u001b[0m \u001b[32m━━━━━━━━━━━━━━━━━━━━\u001b[0m\u001b[37m\u001b[0m \u001b[1m4s\u001b[0m 3ms/step - accuracy: 0.8633 - loss: 0.3055 - val_accuracy: 0.8538 - val_loss: 0.3203\n"
          ]
        }
      ],
      "source": [
        "from tensorflow.keras.regularizers import l2\n",
        "\n",
        "model_l2 = Sequential()\n",
        "model_l2.add(Dense(512, activation='relu', input_shape=(X_train.shape[1],),\n",
        "                   kernel_regularizer=l2(0.001)))\n",
        "model_l2.add(Dense(256, activation='relu', kernel_regularizer=l2(0.001)))\n",
        "model_l2.add(Dense(128, activation='relu', kernel_regularizer=l2(0.001)))\n",
        "model_l2.add(Dense(1, activation='sigmoid'))\n",
        "\n",
        "model_l2.compile(optimizer=Adam(0.001),\n",
        "                 loss='binary_crossentropy',\n",
        "                 metrics=['accuracy'])\n",
        "\n",
        "history_l2 = model_l2.fit(X_train, y_train,\n",
        "                          validation_data=(X_val, y_val),\n",
        "                          epochs=50,\n",
        "                          batch_size=32)"
      ]
    },
    {
      "cell_type": "code",
      "execution_count": null,
      "metadata": {},
      "outputs": [
        {
          "name": "stdout",
          "output_type": "stream",
          "text": [
            "Epoch 1/50\n"
          ]
        },
        {
          "name": "stderr",
          "output_type": "stream",
          "text": [
            "C:\\Users\\User\\AppData\\Roaming\\Python\\Python313\\site-packages\\keras\\src\\layers\\core\\dense.py:92: UserWarning: Do not pass an `input_shape`/`input_dim` argument to a layer. When using Sequential models, prefer using an `Input(shape)` object as the first layer in the model instead.\n",
            "  super().__init__(activity_regularizer=activity_regularizer, **kwargs)\n"
          ]
        },
        {
          "name": "stdout",
          "output_type": "stream",
          "text": [
            "\u001b[1m1069/1069\u001b[0m \u001b[32m━━━━━━━━━━━━━━━━━━━━\u001b[0m\u001b[37m\u001b[0m \u001b[1m5s\u001b[0m 3ms/step - accuracy: 0.8486 - loss: 0.3300 - val_accuracy: 0.8507 - val_loss: 0.3135\n",
            "Epoch 2/50\n",
            "\u001b[1m1069/1069\u001b[0m \u001b[32m━━━━━━━━━━━━━━━━━━━━\u001b[0m\u001b[37m\u001b[0m \u001b[1m6s\u001b[0m 5ms/step - accuracy: 0.8544 - loss: 0.3144 - val_accuracy: 0.8521 - val_loss: 0.3148\n",
            "Epoch 3/50\n",
            "\u001b[1m1069/1069\u001b[0m \u001b[32m━━━━━━━━━━━━━━━━━━━━\u001b[0m\u001b[37m\u001b[0m \u001b[1m6s\u001b[0m 5ms/step - accuracy: 0.8576 - loss: 0.3103 - val_accuracy: 0.8551 - val_loss: 0.3108\n",
            "Epoch 4/50\n",
            "\u001b[1m1069/1069\u001b[0m \u001b[32m━━━━━━━━━━━━━━━━━━━━\u001b[0m\u001b[37m\u001b[0m \u001b[1m6s\u001b[0m 5ms/step - accuracy: 0.8583 - loss: 0.3056 - val_accuracy: 0.8543 - val_loss: 0.3125\n",
            "Epoch 5/50\n",
            "\u001b[1m1069/1069\u001b[0m \u001b[32m━━━━━━━━━━━━━━━━━━━━\u001b[0m\u001b[37m\u001b[0m \u001b[1m5s\u001b[0m 4ms/step - accuracy: 0.8609 - loss: 0.3019 - val_accuracy: 0.8569 - val_loss: 0.3131\n",
            "Epoch 6/50\n",
            "\u001b[1m1069/1069\u001b[0m \u001b[32m━━━━━━━━━━━━━━━━━━━━\u001b[0m\u001b[37m\u001b[0m \u001b[1m5s\u001b[0m 5ms/step - accuracy: 0.8617 - loss: 0.2992 - val_accuracy: 0.8563 - val_loss: 0.3153\n",
            "Epoch 7/50\n",
            "\u001b[1m1069/1069\u001b[0m \u001b[32m━━━━━━━━━━━━━━━━━━━━\u001b[0m\u001b[37m\u001b[0m \u001b[1m7s\u001b[0m 6ms/step - accuracy: 0.8630 - loss: 0.2951 - val_accuracy: 0.8558 - val_loss: 0.3152\n",
            "Epoch 8/50\n",
            "\u001b[1m1069/1069\u001b[0m \u001b[32m━━━━━━━━━━━━━━━━━━━━\u001b[0m\u001b[37m\u001b[0m \u001b[1m6s\u001b[0m 5ms/step - accuracy: 0.8645 - loss: 0.2901 - val_accuracy: 0.8538 - val_loss: 0.3178\n",
            "Epoch 9/50\n",
            "\u001b[1m1069/1069\u001b[0m \u001b[32m━━━━━━━━━━━━━━━━━━━━\u001b[0m\u001b[37m\u001b[0m \u001b[1m5s\u001b[0m 5ms/step - accuracy: 0.8655 - loss: 0.2860 - val_accuracy: 0.8574 - val_loss: 0.3168\n",
            "Epoch 10/50\n",
            "\u001b[1m1069/1069\u001b[0m \u001b[32m━━━━━━━━━━━━━━━━━━━━\u001b[0m\u001b[37m\u001b[0m \u001b[1m4s\u001b[0m 3ms/step - accuracy: 0.8670 - loss: 0.2846 - val_accuracy: 0.8573 - val_loss: 0.3220\n",
            "Epoch 11/50\n",
            "\u001b[1m1069/1069\u001b[0m \u001b[32m━━━━━━━━━━━━━━━━━━━━\u001b[0m\u001b[37m\u001b[0m \u001b[1m4s\u001b[0m 3ms/step - accuracy: 0.8686 - loss: 0.2795 - val_accuracy: 0.8584 - val_loss: 0.3409\n",
            "Epoch 12/50\n",
            "\u001b[1m1069/1069\u001b[0m \u001b[32m━━━━━━━━━━━━━━━━━━━━\u001b[0m\u001b[37m\u001b[0m \u001b[1m4s\u001b[0m 4ms/step - accuracy: 0.8705 - loss: 0.2754 - val_accuracy: 0.8538 - val_loss: 0.3306\n",
            "Epoch 13/50\n",
            "\u001b[1m1069/1069\u001b[0m \u001b[32m━━━━━━━━━━━━━━━━━━━━\u001b[0m\u001b[37m\u001b[0m \u001b[1m6s\u001b[0m 6ms/step - accuracy: 0.8701 - loss: 0.2749 - val_accuracy: 0.8562 - val_loss: 0.3373\n",
            "Epoch 14/50\n",
            "\u001b[1m1069/1069\u001b[0m \u001b[32m━━━━━━━━━━━━━━━━━━━━\u001b[0m\u001b[37m\u001b[0m \u001b[1m6s\u001b[0m 6ms/step - accuracy: 0.8727 - loss: 0.2697 - val_accuracy: 0.8534 - val_loss: 0.3371\n",
            "Epoch 15/50\n",
            "\u001b[1m1069/1069\u001b[0m \u001b[32m━━━━━━━━━━━━━━━━━━━━\u001b[0m\u001b[37m\u001b[0m \u001b[1m6s\u001b[0m 5ms/step - accuracy: 0.8750 - loss: 0.2676 - val_accuracy: 0.8558 - val_loss: 0.3390\n",
            "Epoch 16/50\n",
            "\u001b[1m1069/1069\u001b[0m \u001b[32m━━━━━━━━━━━━━━━━━━━━\u001b[0m\u001b[37m\u001b[0m \u001b[1m6s\u001b[0m 6ms/step - accuracy: 0.8740 - loss: 0.2630 - val_accuracy: 0.8522 - val_loss: 0.3670\n",
            "Epoch 17/50\n",
            "\u001b[1m1069/1069\u001b[0m \u001b[32m━━━━━━━━━━━━━━━━━━━━\u001b[0m\u001b[37m\u001b[0m \u001b[1m6s\u001b[0m 6ms/step - accuracy: 0.8759 - loss: 0.2622 - val_accuracy: 0.8510 - val_loss: 0.3504\n",
            "Epoch 18/50\n",
            "\u001b[1m1069/1069\u001b[0m \u001b[32m━━━━━━━━━━━━━━━━━━━━\u001b[0m\u001b[37m\u001b[0m \u001b[1m6s\u001b[0m 6ms/step - accuracy: 0.8756 - loss: 0.2592 - val_accuracy: 0.8503 - val_loss: 0.3671\n",
            "Epoch 19/50\n",
            "\u001b[1m1069/1069\u001b[0m \u001b[32m━━━━━━━━━━━━━━━━━━━━\u001b[0m\u001b[37m\u001b[0m \u001b[1m6s\u001b[0m 6ms/step - accuracy: 0.8776 - loss: 0.2561 - val_accuracy: 0.8493 - val_loss: 0.3724\n",
            "Epoch 20/50\n",
            "\u001b[1m1069/1069\u001b[0m \u001b[32m━━━━━━━━━━━━━━━━━━━━\u001b[0m\u001b[37m\u001b[0m \u001b[1m6s\u001b[0m 5ms/step - accuracy: 0.8798 - loss: 0.2536 - val_accuracy: 0.8523 - val_loss: 0.3667\n",
            "Epoch 21/50\n",
            "\u001b[1m1069/1069\u001b[0m \u001b[32m━━━━━━━━━━━━━━━━━━━━\u001b[0m\u001b[37m\u001b[0m \u001b[1m6s\u001b[0m 6ms/step - accuracy: 0.8809 - loss: 0.2519 - val_accuracy: 0.8491 - val_loss: 0.3827\n",
            "Epoch 22/50\n",
            "\u001b[1m1069/1069\u001b[0m \u001b[32m━━━━━━━━━━━━━━━━━━━━\u001b[0m\u001b[37m\u001b[0m \u001b[1m4s\u001b[0m 4ms/step - accuracy: 0.8804 - loss: 0.2523 - val_accuracy: 0.8518 - val_loss: 0.3699\n",
            "Epoch 23/50\n",
            "\u001b[1m1069/1069\u001b[0m \u001b[32m━━━━━━━━━━━━━━━━━━━━\u001b[0m\u001b[37m\u001b[0m \u001b[1m4s\u001b[0m 3ms/step - accuracy: 0.8833 - loss: 0.2456 - val_accuracy: 0.8457 - val_loss: 0.3673\n",
            "Epoch 24/50\n",
            "\u001b[1m1069/1069\u001b[0m \u001b[32m━━━━━━━━━━━━━━━━━━━━\u001b[0m\u001b[37m\u001b[0m \u001b[1m4s\u001b[0m 3ms/step - accuracy: 0.8824 - loss: 0.2457 - val_accuracy: 0.8478 - val_loss: 0.3795\n",
            "Epoch 25/50\n",
            "\u001b[1m1069/1069\u001b[0m \u001b[32m━━━━━━━━━━━━━━━━━━━━\u001b[0m\u001b[37m\u001b[0m \u001b[1m4s\u001b[0m 3ms/step - accuracy: 0.8835 - loss: 0.2454 - val_accuracy: 0.8518 - val_loss: 0.3868\n",
            "Epoch 26/50\n",
            "\u001b[1m1069/1069\u001b[0m \u001b[32m━━━━━━━━━━━━━━━━━━━━\u001b[0m\u001b[37m\u001b[0m \u001b[1m4s\u001b[0m 3ms/step - accuracy: 0.8836 - loss: 0.2429 - val_accuracy: 0.8493 - val_loss: 0.4124\n",
            "Epoch 27/50\n",
            "\u001b[1m1069/1069\u001b[0m \u001b[32m━━━━━━━━━━━━━━━━━━━━\u001b[0m\u001b[37m\u001b[0m \u001b[1m4s\u001b[0m 3ms/step - accuracy: 0.8841 - loss: 0.2406 - val_accuracy: 0.8472 - val_loss: 0.4242\n",
            "Epoch 28/50\n",
            "\u001b[1m1069/1069\u001b[0m \u001b[32m━━━━━━━━━━━━━━━━━━━━\u001b[0m\u001b[37m\u001b[0m \u001b[1m4s\u001b[0m 3ms/step - accuracy: 0.8867 - loss: 0.2405 - val_accuracy: 0.8480 - val_loss: 0.4039\n",
            "Epoch 29/50\n",
            "\u001b[1m1069/1069\u001b[0m \u001b[32m━━━━━━━━━━━━━━━━━━━━\u001b[0m\u001b[37m\u001b[0m \u001b[1m3s\u001b[0m 3ms/step - accuracy: 0.8870 - loss: 0.2373 - val_accuracy: 0.8504 - val_loss: 0.4397\n",
            "Epoch 30/50\n",
            "\u001b[1m1069/1069\u001b[0m \u001b[32m━━━━━━━━━━━━━━━━━━━━\u001b[0m\u001b[37m\u001b[0m \u001b[1m4s\u001b[0m 3ms/step - accuracy: 0.8882 - loss: 0.2371 - val_accuracy: 0.8453 - val_loss: 0.3961\n",
            "Epoch 31/50\n",
            "\u001b[1m1069/1069\u001b[0m \u001b[32m━━━━━━━━━━━━━━━━━━━━\u001b[0m\u001b[37m\u001b[0m \u001b[1m3s\u001b[0m 3ms/step - accuracy: 0.8871 - loss: 0.2368 - val_accuracy: 0.8448 - val_loss: 0.4215\n",
            "Epoch 32/50\n",
            "\u001b[1m1069/1069\u001b[0m \u001b[32m━━━━━━━━━━━━━━━━━━━━\u001b[0m\u001b[37m\u001b[0m \u001b[1m3s\u001b[0m 3ms/step - accuracy: 0.8886 - loss: 0.2338 - val_accuracy: 0.8461 - val_loss: 0.4237\n",
            "Epoch 33/50\n",
            "\u001b[1m1069/1069\u001b[0m \u001b[32m━━━━━━━━━━━━━━━━━━━━\u001b[0m\u001b[37m\u001b[0m \u001b[1m3s\u001b[0m 3ms/step - accuracy: 0.8879 - loss: 0.2305 - val_accuracy: 0.8481 - val_loss: 0.4496\n",
            "Epoch 34/50\n",
            "\u001b[1m1069/1069\u001b[0m \u001b[32m━━━━━━━━━━━━━━━━━━━━\u001b[0m\u001b[37m\u001b[0m \u001b[1m3s\u001b[0m 3ms/step - accuracy: 0.8895 - loss: 0.2302 - val_accuracy: 0.8438 - val_loss: 0.4405\n",
            "Epoch 35/50\n",
            "\u001b[1m1069/1069\u001b[0m \u001b[32m━━━━━━━━━━━━━━━━━━━━\u001b[0m\u001b[37m\u001b[0m \u001b[1m3s\u001b[0m 3ms/step - accuracy: 0.8906 - loss: 0.2302 - val_accuracy: 0.8465 - val_loss: 0.4484\n",
            "Epoch 36/50\n",
            "\u001b[1m1069/1069\u001b[0m \u001b[32m━━━━━━━━━━━━━━━━━━━━\u001b[0m\u001b[37m\u001b[0m \u001b[1m3s\u001b[0m 3ms/step - accuracy: 0.8909 - loss: 0.2293 - val_accuracy: 0.8478 - val_loss: 0.4288\n",
            "Epoch 37/50\n",
            "\u001b[1m1069/1069\u001b[0m \u001b[32m━━━━━━━━━━━━━━━━━━━━\u001b[0m\u001b[37m\u001b[0m \u001b[1m3s\u001b[0m 3ms/step - accuracy: 0.8901 - loss: 0.2264 - val_accuracy: 0.8446 - val_loss: 0.4272\n",
            "Epoch 38/50\n",
            "\u001b[1m1069/1069\u001b[0m \u001b[32m━━━━━━━━━━━━━━━━━━━━\u001b[0m\u001b[37m\u001b[0m \u001b[1m3s\u001b[0m 3ms/step - accuracy: 0.8934 - loss: 0.2240 - val_accuracy: 0.8472 - val_loss: 0.4387\n",
            "Epoch 39/50\n",
            "\u001b[1m1069/1069\u001b[0m \u001b[32m━━━━━━━━━━━━━━━━━━━━\u001b[0m\u001b[37m\u001b[0m \u001b[1m3s\u001b[0m 3ms/step - accuracy: 0.8927 - loss: 0.2249 - val_accuracy: 0.8443 - val_loss: 0.4466\n",
            "Epoch 40/50\n",
            "\u001b[1m1069/1069\u001b[0m \u001b[32m━━━━━━━━━━━━━━━━━━━━\u001b[0m\u001b[37m\u001b[0m \u001b[1m4s\u001b[0m 3ms/step - accuracy: 0.8939 - loss: 0.2230 - val_accuracy: 0.8450 - val_loss: 0.4798\n",
            "Epoch 41/50\n",
            "\u001b[1m1069/1069\u001b[0m \u001b[32m━━━━━━━━━━━━━━━━━━━━\u001b[0m\u001b[37m\u001b[0m \u001b[1m3s\u001b[0m 3ms/step - accuracy: 0.8945 - loss: 0.2211 - val_accuracy: 0.8465 - val_loss: 0.4632\n",
            "Epoch 42/50\n",
            "\u001b[1m1069/1069\u001b[0m \u001b[32m━━━━━━━━━━━━━━━━━━━━\u001b[0m\u001b[37m\u001b[0m \u001b[1m3s\u001b[0m 3ms/step - accuracy: 0.8935 - loss: 0.2203 - val_accuracy: 0.8432 - val_loss: 0.4583\n",
            "Epoch 43/50\n",
            "\u001b[1m1069/1069\u001b[0m \u001b[32m━━━━━━━━━━━━━━━━━━━━\u001b[0m\u001b[37m\u001b[0m \u001b[1m3s\u001b[0m 3ms/step - accuracy: 0.8934 - loss: 0.2197 - val_accuracy: 0.8477 - val_loss: 0.4565\n",
            "Epoch 44/50\n",
            "\u001b[1m1069/1069\u001b[0m \u001b[32m━━━━━━━━━━━━━━━━━━━━\u001b[0m\u001b[37m\u001b[0m \u001b[1m4s\u001b[0m 3ms/step - accuracy: 0.8951 - loss: 0.2183 - val_accuracy: 0.8478 - val_loss: 0.4658\n",
            "Epoch 45/50\n",
            "\u001b[1m1069/1069\u001b[0m \u001b[32m━━━━━━━━━━━━━━━━━━━━\u001b[0m\u001b[37m\u001b[0m \u001b[1m4s\u001b[0m 4ms/step - accuracy: 0.8964 - loss: 0.2138 - val_accuracy: 0.8413 - val_loss: 0.4808\n",
            "Epoch 46/50\n",
            "\u001b[1m1069/1069\u001b[0m \u001b[32m━━━━━━━━━━━━━━━━━━━━\u001b[0m\u001b[37m\u001b[0m \u001b[1m3s\u001b[0m 3ms/step - accuracy: 0.8972 - loss: 0.2170 - val_accuracy: 0.8459 - val_loss: 0.4925\n",
            "Epoch 47/50\n",
            "\u001b[1m1069/1069\u001b[0m \u001b[32m━━━━━━━━━━━━━━━━━━━━\u001b[0m\u001b[37m\u001b[0m \u001b[1m4s\u001b[0m 3ms/step - accuracy: 0.8963 - loss: 0.2152 - val_accuracy: 0.8446 - val_loss: 0.4840\n",
            "Epoch 48/50\n",
            "\u001b[1m1069/1069\u001b[0m \u001b[32m━━━━━━━━━━━━━━━━━━━━\u001b[0m\u001b[37m\u001b[0m \u001b[1m3s\u001b[0m 3ms/step - accuracy: 0.8972 - loss: 0.2128 - val_accuracy: 0.8428 - val_loss: 0.4932\n",
            "Epoch 49/50\n",
            "\u001b[1m1069/1069\u001b[0m \u001b[32m━━━━━━━━━━━━━━━━━━━━\u001b[0m\u001b[37m\u001b[0m \u001b[1m3s\u001b[0m 3ms/step - accuracy: 0.8982 - loss: 0.2151 - val_accuracy: 0.8443 - val_loss: 0.4830\n",
            "Epoch 50/50\n",
            "\u001b[1m1069/1069\u001b[0m \u001b[32m━━━━━━━━━━━━━━━━━━━━\u001b[0m\u001b[37m\u001b[0m \u001b[1m3s\u001b[0m 3ms/step - accuracy: 0.8980 - loss: 0.2112 - val_accuracy: 0.8477 - val_loss: 0.5321\n"
          ]
        }
      ],
      "source": [
        "from tensorflow.keras.layers import Dropout\n",
        "\n",
        "model_dropout = Sequential()\n",
        "model_dropout.add(Dense(512, activation='relu', input_shape=(X_train.shape[1],)))\n",
        "model_dropout.add(Dropout(0.3))  # randomly drop 30% neurons\n",
        "model_dropout.add(Dense(256, activation='relu'))\n",
        "model_dropout.add(Dropout(0.3))\n",
        "model_dropout.add(Dense(128, activation='relu'))\n",
        "model_dropout.add(Dropout(0.3))\n",
        "model_dropout.add(Dense(1, activation='sigmoid'))\n",
        "\n",
        "model_dropout.compile(optimizer=Adam(0.001),\n",
        "                      loss='binary_crossentropy',\n",
        "                      metrics=['accuracy'])\n",
        "\n",
        "history_dropout = model_dropout.fit(X_train, y_train,\n",
        "                                    validation_data=(X_val, y_val),\n",
        "                                    epochs=50,\n",
        "                                    batch_size=32)"
      ]
    },
    {
      "cell_type": "code",
      "execution_count": null,
      "metadata": {},
      "outputs": [
        {
          "data": {
            "image/png": "[encoded data removed]",
            "text/plain": [
              "<Figure size 640x480 with 1 Axes>"
            ]
          },
          "metadata": {},
          "output_type": "display_data"
        }
      ],
      "source": [
        "plt.plot(history_large.history['val_accuracy'], label='Large network')\n",
        "plt.plot(history_l2.history['val_accuracy'], label='L2 Regularization')\n",
        "plt.plot(history_dropout.history['val_accuracy'], label='Dropout')\n",
        "plt.xlabel('Epochs')\n",
        "plt.ylabel('Validation Accuracy')\n",
        "plt.legend()\n",
        "plt.title('Accuracy With Regularization');\n"
      ]
    },
    {
      "cell_type": "markdown",
      "metadata": {},
      "source": [
        "> from the graph **L2 Regularization** is better than **dropout**"
      ]
    },
    {
      "cell_type": "markdown",
      "metadata": {
        "id": "B0NQsxyYHFpy"
      },
      "source": [
        "## Part 4: Early Stopping\n",
        "1. Train the model for many epochs without early stopping.  \n",
        "   - Plot training, validation, and test curves.\n",
        "2. Train again with **early stopping** (monitor validation loss).\n",
        "3. Compare the number of epochs trained and the final validation/test accuracy.\n",
        "4. Explain how early stopping helps prevent overfitting.\n",
        "\n",
        "---"
      ]
    },
    {
      "cell_type": "code",
      "execution_count": 10,
      "metadata": {
        "id": "bnqrGbCzHI2V"
      },
      "outputs": [
        {
          "name": "stdout",
          "output_type": "stream",
          "text": [
            "Epoch 1/50\n"
          ]
        },
        {
          "name": "stderr",
          "output_type": "stream",
          "text": [
            "C:\\Users\\User\\AppData\\Roaming\\Python\\Python313\\site-packages\\keras\\src\\layers\\core\\dense.py:92: UserWarning: Do not pass an `input_shape`/`input_dim` argument to a layer. When using Sequential models, prefer using an `Input(shape)` object as the first layer in the model instead.\n",
            "  super().__init__(activity_regularizer=activity_regularizer, **kwargs)\n"
          ]
        },
        {
          "name": "stdout",
          "output_type": "stream",
          "text": [
            "\u001b[1m1069/1069\u001b[0m \u001b[32m━━━━━━━━━━━━━━━━━━━━\u001b[0m\u001b[37m\u001b[0m \u001b[1m4s\u001b[0m 3ms/step - accuracy: 0.8489 - loss: 0.3228 - val_accuracy: 0.8503 - val_loss: 0.3153\n",
            "Epoch 2/50\n",
            "\u001b[1m1069/1069\u001b[0m \u001b[32m━━━━━━━━━━━━━━━━━━━━\u001b[0m\u001b[37m\u001b[0m \u001b[1m3s\u001b[0m 2ms/step - accuracy: 0.8575 - loss: 0.3083 - val_accuracy: 0.8519 - val_loss: 0.3097\n",
            "Epoch 3/50\n",
            "\u001b[1m1069/1069\u001b[0m \u001b[32m━━━━━━━━━━━━━━━━━━━━\u001b[0m\u001b[37m\u001b[0m \u001b[1m3s\u001b[0m 3ms/step - accuracy: 0.8597 - loss: 0.3009 - val_accuracy: 0.8545 - val_loss: 0.3096\n",
            "Epoch 4/50\n",
            "\u001b[1m1069/1069\u001b[0m \u001b[32m━━━━━━━━━━━━━━━━━━━━\u001b[0m\u001b[37m\u001b[0m \u001b[1m3s\u001b[0m 3ms/step - accuracy: 0.8625 - loss: 0.2954 - val_accuracy: 0.8544 - val_loss: 0.3120\n"
          ]
        }
      ],
      "source": [
        "# we will use model_large as base to save time\n",
        "from tensorflow.keras.callbacks import EarlyStopping\n",
        "model_large_early_stop = Sequential()\n",
        "model_large_early_stop.add(Dense(512, activation='relu', input_shape=(X_train.shape[1],)))\n",
        "model_large_early_stop.add(Dense(256, activation='relu'))\n",
        "model_large_early_stop.add(Dense(128, activation='relu'))\n",
        "model_large_early_stop.add(Dense(1, activation='sigmoid'))\n",
        "\n",
        "model_large_early_stop.compile(optimizer=Adam(0.001),\n",
        "                    loss='binary_crossentropy',\n",
        "                    metrics=['accuracy'])\n",
        "early_stopping = EarlyStopping(monitor='val_loss', patience=3,min_delta=0.1, restore_best_weights=True)\n",
        "\n",
        "history_large_early_stop = model_large_early_stop.fit(X_train, y_train, validation_data=(X_val, y_val), epochs=50,batch_size=32, callbacks=[early_stopping])\n"
      ]
    },
    {
      "cell_type": "code",
      "execution_count": 14,
      "metadata": {},
      "outputs": [
        {
          "data": {
            "image/png": "[encoded data removed]",
            "text/plain": [
              "<Figure size 640x480 with 1 Axes>"
            ]
          },
          "metadata": {},
          "output_type": "display_data"
        }
      ],
      "source": [
        "import matplotlib.pyplot as plt\n",
        "plt.plot(history_large.history['val_accuracy'], label='Large network')\n",
        "plt.plot(history_large_early_stop.history['val_accuracy'], label='L2 Regularization')\n",
        "plt.plot(history_large_early_stop.history['val_accuracy'], label='Dropout')\n",
        "plt.xlabel('Epochs')\n",
        "plt.ylabel('Validation Accuracy')\n",
        "plt.legend()\n",
        "plt.title('Accuracy With Regularization');\n"
      ]
    },
    {
      "cell_type": "markdown",
      "metadata": {},
      "source": [
        "> we can see that early stooping is much more faster and better without early stopping as it stops the training once the validation loss is relativly the same"
      ]
    },
    {
      "cell_type": "markdown",
      "metadata": {
        "id": "Ix3ePqRnHHSs"
      },
      "source": [
        "## Part 5: Reflection\n",
        "1. Summarize what you learned about:\n",
        "   - The role of optimizers\n",
        "   - The effect of batch size\n",
        "   - Regularization methods\n",
        "   - Early stopping\n",
        "   - Train/validation/test splits\n",
        "2. If you had to train a deep learning model on a new tabular dataset, what choices would you make for:\n",
        "   - Optimizer\n",
        "   - Batch size\n",
        "   - Regularization\n",
        "   - Early stopping\n",
        "   - Data splitting strategy  \n",
        "   and why?"
      ]
    },
    {
      "cell_type": "code",
      "execution_count": null,
      "metadata": {
        "id": "zj8KFZ2LGsuQ"
      },
      "outputs": [],
      "source": []
    }
  ],
  "metadata": {
    "colab": {
      "provenance": []
    },
    "kernelspec": {
      "display_name": "Python 3",
      "name": "python3"
    },
    "language_info": {
      "codemirror_mode": {
        "name": "ipython",
        "version": 3
      },
      "file_extension": ".py",
      "mimetype": "text/x-python",
      "name": "python",
      "nbconvert_exporter": "python",
      "pygments_lexer": "ipython3",
      "version": "3.13.7"
    }
  },
  "nbformat": 4,
  "nbformat_minor": 0
}
